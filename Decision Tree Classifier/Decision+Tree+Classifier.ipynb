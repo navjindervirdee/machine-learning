{
 "cells": [
  {
   "cell_type": "code",
   "execution_count": 4,
   "metadata": {},
   "outputs": [
    {
     "name": "stdout",
     "output_type": "stream",
     "text": [
      "Iris Dataset\n",
      "Features Shape = {} (150, 4)\n",
      "Labels Shape = (150, 4)\n",
      "\n",
      "Sample Data :\n",
      "Example 1 : Features-[ 5.1  3.5  1.4  0.2] , Labels-[0]\n"
     ]
    }
   ],
   "source": [
    "#Implemented Decision Tree Algorithm.\n",
    "#This Algorithm is used for classification of objects.\n",
    "#Data-Set used in this program is Iris data-set.\n",
    "#Link for dataset = http://scikit-learn.org/stable/auto_examples/datasets/plot_iris_dataset.html\n",
    "\n",
    "#get the dataset\n",
    "from sklearn import datasets\n",
    "iris = datasets.load_iris()\n",
    "\n",
    "#get the features\n",
    "import numpy as np\n",
    "features = iris.data\n",
    "\n",
    "#get target labels i.e classes.\n",
    "labels = np.array(iris.target).reshape(-1,1)\n",
    "\n",
    "print(\"Iris Dataset\")\n",
    "print(\"Features Shape = {}\",format(features.shape))\n",
    "print(\"Labels Shape = {}\".format(features.shape))\n",
    "\n",
    "print(\"\\nSample Data :\")\n",
    "print(\"Example 1 : Features-{} , Labels-{}\".format(features[0],labels[0]))"
   ]
  },
  {
   "cell_type": "code",
   "execution_count": 5,
   "metadata": {},
   "outputs": [
    {
     "name": "stdout",
     "output_type": "stream",
     "text": [
      "[0 1 2]\n"
     ]
    }
   ],
   "source": [
    "#Get numbers of classes in the labels.\n",
    "num_classes = np.unique(labels)\n",
    "print(num_classes)"
   ]
  },
  {
   "cell_type": "code",
   "execution_count": 7,
   "metadata": {},
   "outputs": [
    {
     "name": "stdout",
     "output_type": "stream",
     "text": [
      "Before Normalization :\n",
      "[[ 5.1  3.5  1.4  0.2]\n",
      " [ 4.9  3.   1.4  0.2]\n",
      " [ 4.7  3.2  1.3  0.2]\n",
      " [ 4.6  3.1  1.5  0.2]\n",
      " [ 5.   3.6  1.4  0.2]]\n",
      "\n",
      "After Normalization :\n",
      "[[-0.90068117  1.03205722 -1.3412724  -1.31297673]\n",
      " [-1.14301691 -0.1249576  -1.3412724  -1.31297673]\n",
      " [-1.38535265  0.33784833 -1.39813811 -1.31297673]\n",
      " [-1.50652052  0.10644536 -1.2844067  -1.31297673]\n",
      " [-1.02184904  1.26346019 -1.3412724  -1.31297673]]\n"
     ]
    }
   ],
   "source": [
    "#Performing mean normalization ans feature scalling on the data.\n",
    "#This helps the algorithm to converge faster.\n",
    "print(\"Before Normalization :\")\n",
    "print(features[0:5])\n",
    "\n",
    "for i in range(features.shape[1]):\n",
    "    mean = features[:,i].mean()\n",
    "    std = features[:,i].std()\n",
    "    features[:,i] = (features[:,i]-mean)/std\n",
    "    \n",
    "print(\"\\nAfter Normalization :\")\n",
    "print(features[0:5])"
   ]
  },
  {
   "cell_type": "code",
   "execution_count": 51,
   "metadata": {},
   "outputs": [
    {
     "name": "stdout",
     "output_type": "stream",
     "text": [
      "Reduced Features :\n",
      "[[-2.26454173  0.5057039 ]\n",
      " [-2.0864255  -0.65540473]\n",
      " [-2.36795045 -0.31847731]\n",
      " [-2.30419716 -0.57536771]\n",
      " [-2.38877749  0.6747674 ]]\n",
      "\n",
      "Original Features :\n",
      "[[-0.90068117  1.03205722 -1.3412724  -1.31297673]\n",
      " [-1.14301691 -0.1249576  -1.3412724  -1.31297673]\n",
      " [-1.38535265  0.33784833 -1.39813811 -1.31297673]\n",
      " [-1.50652052  0.10644536 -1.2844067  -1.31297673]\n",
      " [-1.02184904  1.26346019 -1.3412724  -1.31297673]]\n"
     ]
    }
   ],
   "source": [
    "#Using PCA to for Data Visualization.\n",
    "#get PCA from sklearn.\n",
    "from sklearn.decomposition import PCA\n",
    "\n",
    "#reducing into 2 dimensions.\n",
    "pca = PCA(n_components=2)\n",
    "\n",
    "#fit \n",
    "pca.fit(features)\n",
    "\n",
    "#make a copy of features\n",
    "reduced_features = np.copy(features)\n",
    "\n",
    "#apply transform on the copy\n",
    "reduced_features = pca.transform(reduced_features)\n",
    "\n",
    "print('Reduced Features :')\n",
    "print(reduced_features[0:5])\n",
    "\n",
    "print(\"\\nOriginal Features :\")\n",
    "print(features[0:5])"
   ]
  },
  {
   "cell_type": "code",
   "execution_count": 54,
   "metadata": {},
   "outputs": [],
   "source": [
    "#Separate data points for different classes.\n",
    "label_dict = {0:[],1:[],2:[]}\n",
    "for i,row in enumerate(reduced_features):\n",
    "    label_dict[int(labels[i])].append(row) \n",
    "    \n",
    "#convert into np.array\n",
    "label_dict[0] = np.array(label_dict[0]).reshape(-1,2)\n",
    "label_dict[1] = np.array(label_dict[1]).reshape(-1,2)\n",
    "label_dict[2] = np.array(label_dict[2]).reshape(-1,2)"
   ]
  },
  {
   "cell_type": "code",
   "execution_count": 55,
   "metadata": {},
   "outputs": [
    {
     "data": {
      "image/png": "[encoded data removed]",
      "text/plain": [
       "<matplotlib.figure.Figure at 0x1f30f09b358>"
      ]
     },
     "metadata": {},
     "output_type": "display_data"
    }
   ],
   "source": [
    "#Plottting Different labels\n",
    "import matplotlib.pyplot as plt\n",
    "plt.figure()\n",
    "plt.plot(label_dict[0][:,0],label_dict[0][:,1],'rx',label='0 class')\n",
    "plt.plot(label_dict[1][:,0],label_dict[1][:,1],'bo',label='1 class')\n",
    "plt.plot(label_dict[2][:,0],label_dict[2][:,1],'g*',label='2 class')\n",
    "plt.xlabel(\"reduced_feaure1\")\n",
    "plt.ylabel(\"reduced_feaure2\")\n",
    "plt.title(\"Plot of Classes\")\n",
    "plt.legend()\n",
    "plt.show()"
   ]
  },
  {
   "cell_type": "code",
   "execution_count": 57,
   "metadata": {},
   "outputs": [
    {
     "name": "stdout",
     "output_type": "stream",
     "text": [
      "Accuracy : 100.0%\n"
     ]
    }
   ],
   "source": [
    "#Implementing Decision Tree Classifier\n",
    "from sklearn.tree import DecisionTreeClassifier\n",
    "dec_tree = DecisionTreeClassifier()\n",
    "\n",
    "#fit the data\n",
    "dec_tree.fit(features,labels)\n",
    "\n",
    "#Accuracy\n",
    "print('Accuracy : {}%'.format(dec_tree.score(features,labels)*100))"
   ]
  }
 ],
 "metadata": {
  "kernelspec": {
   "display_name": "Python 3",
   "language": "python",
   "name": "python3"
  },
  "language_info": {
   "codemirror_mode": {
    "name": "ipython",
    "version": 3
   },
   "file_extension": ".py",
   "mimetype": "text/x-python",
   "name": "python",
   "nbconvert_exporter": "python",
   "pygments_lexer": "ipython3",
   "version": "3.6.1"
  }
 },
 "nbformat": 4,
 "nbformat_minor": 2
}
