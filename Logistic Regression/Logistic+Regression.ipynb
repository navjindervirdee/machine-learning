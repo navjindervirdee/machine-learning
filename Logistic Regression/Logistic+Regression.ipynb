{
 "cells": [
  {
   "cell_type": "code",
   "execution_count": 89,
   "metadata": {},
   "outputs": [
    {
     "name": "stdout",
     "output_type": "stream",
     "text": [
      "Iris Dataset\n",
      "Features Shape (150, 4)\n",
      "Labels Shape (150, 1)\n",
      "\n",
      "Sample Example\n",
      "Example 1 : [ 5.1  3.5  1.4  0.2] , Label = [0]\n"
     ]
    }
   ],
   "source": [
    "#Implementing Logistic-Regression Algorithm \n",
    "#This algorithm is used for classfication of objects.\n",
    "#Data-Set used in this program is Iris data-set.\n",
    "#Link for dataset = http://scikit-learn.org/stable/auto_examples/datasets/plot_iris_dataset.html\n",
    "\n",
    "#get the iris dataset.\n",
    "from sklearn import datasets\n",
    "import numpy as np\n",
    "iris = datasets.load_iris()\n",
    "\n",
    "#get features from the iris dataset.\n",
    "features = iris.data\n",
    "\n",
    "#get labels.\n",
    "labels = np.array(iris.target).reshape(-1,1)\n",
    "\n",
    "\n",
    "print('Iris Dataset')\n",
    "print('Features Shape {0}'.format(features.shape))\n",
    "print('Labels Shape {0}'.format(labels.shape))\n",
    "\n",
    "print('\\nSample Example')\n",
    "print('Example 1 : {0} , Label = {1}'.format(features[0,:],labels[0]))"
   ]
  },
  {
   "cell_type": "code",
   "execution_count": 90,
   "metadata": {},
   "outputs": [
    {
     "name": "stdout",
     "output_type": "stream",
     "text": [
      "Sample Examples Before : \n",
      "[[ 5.1  3.5  1.4  0.2]\n",
      " [ 4.9  3.   1.4  0.2]\n",
      " [ 4.7  3.2  1.3  0.2]\n",
      " [ 4.6  3.1  1.5  0.2]]\n",
      "\n",
      "Sample Examples After : \n",
      "[[-0.90068117  1.03205722 -1.3412724  -1.31297673]\n",
      " [-1.14301691 -0.1249576  -1.3412724  -1.31297673]\n",
      " [-1.38535265  0.33784833 -1.39813811 -1.31297673]\n",
      " [-1.50652052  0.10644536 -1.2844067  -1.31297673]]\n",
      "\n",
      "Range of values of features approx = (-3,3)\n"
     ]
    }
   ],
   "source": [
    "#Performing Feature Scaling and Mean Normalization\n",
    "#This helps to make the algorithm converge faster == faster results.\n",
    "#mean normalization = (feature[:,i] - mean_i_col) , for all i.\n",
    "#feature scaling = (feature[:,i] - mean_i_col)/std_i_col , for all i.\n",
    "#std_i_col = standard deviation of the ith column.\n",
    "\n",
    "print(\"Sample Examples Before : \")\n",
    "print(features[:4,:])\n",
    "\n",
    "shape = features.shape\n",
    "for i in range(shape[1]):\n",
    "    mean = features[:,i].mean()\n",
    "    std = np.std(features[:,i]) #standard deviation\n",
    "    features[:,i] = (features[:,i]-mean)/std\n",
    "    \n",
    "print(\"\\nSample Examples After : \")\n",
    "print(features[:4,:])\n",
    "print('\\nRange of values of features approx = (-3,3)')\n"
   ]
  },
  {
   "cell_type": "code",
   "execution_count": 91,
   "metadata": {},
   "outputs": [
    {
     "name": "stdout",
     "output_type": "stream",
     "text": [
      "train_dataset = (120, 4) , train_labels = (120, 1)\n",
      "valid_dataset = (15, 4) , valid_labels = (15, 1)\n",
      "test_dataset = (15, 4) , test_labels = (15, 1)\n"
     ]
    }
   ],
   "source": [
    "#breaking the dataset into train_dataset, valid_dataset, test_dataset\n",
    "\n",
    "#train_dataset\n",
    "train_dataset = features[:120,:]\n",
    "train_labels = labels[:120,:]\n",
    "\n",
    "#cross_validation dataset\n",
    "valid_dataset = features[120:135,:]\n",
    "valid_labels = labels[120:135,:]\n",
    "\n",
    "#test_dataset\n",
    "test_dataset = features[135:150,:]\n",
    "test_labels = labels[135:150,:]\n",
    "\n",
    "print('train_dataset = {0} , train_labels = {1}'.format(train_dataset.shape, train_labels.shape))\n",
    "print('valid_dataset = {0} , valid_labels = {1}'.format(valid_dataset.shape, valid_labels.shape))\n",
    "print('test_dataset = {0} , test_labels = {1}'.format(test_dataset.shape, test_labels.shape))"
   ]
  },
  {
   "cell_type": "code",
   "execution_count": 100,
   "metadata": {},
   "outputs": [
    {
     "name": "stdout",
     "output_type": "stream",
     "text": [
      "Training Accuracy   : 99.16666666666667 %\n",
      "Validation Accuracy : 80.0 %\n",
      "Test Accuracy       : 93.33333333333333 %\n"
     ]
    },
    {
     "name": "stderr",
     "output_type": "stream",
     "text": [
      "C:\\ProgramData\\Anaconda3\\lib\\site-packages\\sklearn\\utils\\validation.py:547: DataConversionWarning: A column-vector y was passed when a 1d array was expected. Please change the shape of y to (n_samples, ), for example using ravel().\n",
      "  y = column_or_1d(y, warn=True)\n"
     ]
    }
   ],
   "source": [
    "#Implementing Logistic-Regression.\n",
    "#Link for LogisticRegression = http://scikit-learn.org/stable/modules/generated/sklearn.linear_model.LogisticRegression.html\n",
    "\n",
    "#get linear_model library \n",
    "from sklearn import linear_model\n",
    "\n",
    "#get logistic_Regression and assign values to the parameters\n",
    "#to know about parameters check above link.\n",
    "log_reg = linear_model.LogisticRegression(C=100,multi_class='ovr',solver='liblinear',max_iter=100)\n",
    "\n",
    "#fit the training dataset.\n",
    "log_reg.fit(train_dataset,train_labels)\n",
    "\n",
    "#for predictions\n",
    "train_prediction = log_reg.predict(train_dataset)\n",
    "\n",
    "#check accuracy\n",
    "print('Training Accuracy   : {0} %'.format(log_reg.score(train_dataset,train_labels)*100))\n",
    "print('Validation Accuracy : {0} %'.format(log_reg.score(valid_dataset,valid_labels)*100))\n",
    "print('Test Accuracy       : {0} %'.format(log_reg.score(test_dataset,test_labels)*100))"
   ]
  }
 ],
 "metadata": {
  "kernelspec": {
   "display_name": "Python 3",
   "language": "python",
   "name": "python3"
  },
  "language_info": {
   "codemirror_mode": {
    "name": "ipython",
    "version": 3
   },
   "file_extension": ".py",
   "mimetype": "text/x-python",
   "name": "python",
   "nbconvert_exporter": "python",
   "pygments_lexer": "ipython3",
   "version": "3.6.1"
  }
 },
 "nbformat": 4,
 "nbformat_minor": 2
}
