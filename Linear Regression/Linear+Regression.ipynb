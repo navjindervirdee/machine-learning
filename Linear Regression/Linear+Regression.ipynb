{
 "cells": [
  {
   "cell_type": "code",
   "execution_count": 61,
   "metadata": {},
   "outputs": [
    {
     "name": "stdout",
     "output_type": "stream",
     "text": [
      "Shape = (700, 2)\n",
      "\n",
      "Dataset : \n"
     ]
    },
    {
     "data": {
      "text/html": [
       "<div>\n",
       "<style>\n",
       "    .dataframe thead tr:only-child th {\n",
       "        text-align: right;\n",
       "    }\n",
       "\n",
       "    .dataframe thead th {\n",
       "        text-align: left;\n",
       "    }\n",
       "\n",
       "    .dataframe tbody tr th {\n",
       "        vertical-align: top;\n",
       "    }\n",
       "</style>\n",
       "<table border=\"1\" class=\"dataframe\">\n",
       "  <thead>\n",
       "    <tr style=\"text-align: right;\">\n",
       "      <th></th>\n",
       "      <th>x</th>\n",
       "      <th>y</th>\n",
       "    </tr>\n",
       "  </thead>\n",
       "  <tbody>\n",
       "    <tr>\n",
       "      <th>1</th>\n",
       "      <td>50.0</td>\n",
       "      <td>47.464463</td>\n",
       "    </tr>\n",
       "    <tr>\n",
       "      <th>2</th>\n",
       "      <td>15.0</td>\n",
       "      <td>17.218656</td>\n",
       "    </tr>\n",
       "    <tr>\n",
       "      <th>3</th>\n",
       "      <td>38.0</td>\n",
       "      <td>36.586398</td>\n",
       "    </tr>\n",
       "    <tr>\n",
       "      <th>4</th>\n",
       "      <td>87.0</td>\n",
       "      <td>87.288984</td>\n",
       "    </tr>\n",
       "    <tr>\n",
       "      <th>5</th>\n",
       "      <td>36.0</td>\n",
       "      <td>32.463875</td>\n",
       "    </tr>\n",
       "    <tr>\n",
       "      <th>6</th>\n",
       "      <td>12.0</td>\n",
       "      <td>10.780897</td>\n",
       "    </tr>\n",
       "    <tr>\n",
       "      <th>7</th>\n",
       "      <td>81.0</td>\n",
       "      <td>80.763399</td>\n",
       "    </tr>\n",
       "    <tr>\n",
       "      <th>8</th>\n",
       "      <td>25.0</td>\n",
       "      <td>24.612151</td>\n",
       "    </tr>\n",
       "    <tr>\n",
       "      <th>9</th>\n",
       "      <td>5.0</td>\n",
       "      <td>6.963319</td>\n",
       "    </tr>\n",
       "  </tbody>\n",
       "</table>\n",
       "</div>"
      ],
      "text/plain": [
       "      x          y\n",
       "1  50.0  47.464463\n",
       "2  15.0  17.218656\n",
       "3  38.0  36.586398\n",
       "4  87.0  87.288984\n",
       "5  36.0  32.463875\n",
       "6  12.0  10.780897\n",
       "7  81.0  80.763399\n",
       "8  25.0  24.612151\n",
       "9   5.0   6.963319"
      ]
     },
     "execution_count": 61,
     "metadata": {},
     "output_type": "execute_result"
    }
   ],
   "source": [
    "#Impelemented Linear Regression Algorithm\n",
    "#This is algorithm is Used for prediction of continuous real target values from the given features.\n",
    "#Data-set used  in this program is from Kaggle - https://www.kaggle.com/andonians/random-linear-regression/data\n",
    "\n",
    "#Pandas library to read csv file.\n",
    "import pandas as pd\n",
    "path = r'E:\\Study n Work\\Machine Learning\\Linear Regression\\Data\\train.csv'\n",
    "train_data = pd.read_csv(path)\n",
    "\n",
    "#x = features - for this dataset only single feature.\n",
    "#y = target value i.e value to be predicted given x. \n",
    "print('Shape = {0}'.format(train_data.shape))\n",
    "print('\\nDataset : ')\n",
    "train_data[1:10]"
   ]
  },
  {
   "cell_type": "code",
   "execution_count": 63,
   "metadata": {},
   "outputs": [
    {
     "name": "stdout",
     "output_type": "stream",
     "text": [
      "Train_dataset shape - (699, 1)\n",
      "Train_labels shape  - (699, 1)\n"
     ]
    }
   ],
   "source": [
    "#Separating train_data into train_dataset(features) and train_labels(target)\n",
    "import numpy as np\n",
    "train_dataset = np.array(train_data['x']).reshape(-1,1)\n",
    "train_labels = np.array(train_data['y']).reshape(-1,1)\n",
    "\n",
    "#checking for nan values in the data, found only one index=213 so deleted it.\n",
    "nanLabels = np.where(np.isnan(train_labels))\n",
    "train_dataset = np.delete(train_dataset,213,0)\n",
    "train_labels = np.delete(train_labels,213,0)\n",
    "\n",
    "#shape of train_dataset and tain_labels\n",
    "print('Train_dataset shape - {0}'.format(train_dataset.shape))\n",
    "print('Train_labels shape  - {0}'.format(train_labels.shape))"
   ]
  },
  {
   "cell_type": "code",
   "execution_count": 64,
   "metadata": {},
   "outputs": [
    {
     "name": "stdout",
     "output_type": "stream",
     "text": [
      "Before Normalization :\n",
      "[[ 24.]\n",
      " [ 50.]\n",
      " [ 15.]\n",
      " [ 38.]\n",
      " [ 87.]\n",
      " [ 36.]\n",
      " [ 12.]\n",
      " [ 81.]\n",
      " [ 25.]\n",
      " [  5.]]\n",
      "\n",
      "After Normalization :\n",
      "[[ -4.94443564e-04]\n",
      " [ -1.21015062e+00]\n",
      " [ -4.15233705e-01]\n",
      " [  1.27828495e+00]\n",
      " [ -4.84356915e-01]\n",
      " [ -1.31383544e+00]\n",
      " [  1.07091531e+00]\n",
      " [ -8.64534571e-01]\n",
      " [ -1.55576667e+00]]\n"
     ]
    }
   ],
   "source": [
    "#Performing mean normalization and feature scaling.\n",
    "#This is done so that algorithm converges faster = which means less computation time.\n",
    "\n",
    "print('Before Normalization :')\n",
    "print(train_dataset[0:10])\n",
    "\n",
    "#std = standard deviation\n",
    "mean = train_dataset[:,0].mean()\n",
    "std = np.std(train_dataset[:,0])\n",
    "train_dataset[:,0] = (train_dataset[:,0]-mean)/std\n",
    "\n",
    "print('\\nAfter Normalization :')\n",
    "print(train_dataset[1:10])"
   ]
  },
  {
   "cell_type": "code",
   "execution_count": 65,
   "metadata": {},
   "outputs": [
    {
     "data": {
      "image/png": "[encoded data removed]",
      "text/plain": [
       "<matplotlib.figure.Figure at 0x25746abf3c8>"
      ]
     },
     "metadata": {},
     "output_type": "display_data"
    }
   ],
   "source": [
    "#Lets see how our data looks by plotting.\n",
    "#using matplotlib for plotting.\n",
    "import matplotlib.pyplot as plt\n",
    "plt.plot(train_dataset,train_labels,'rx')\n",
    "plt.xlabel('X')\n",
    "plt.ylabel('Y')\n",
    "plt.title('X VS Y')\n",
    "plt.show()"
   ]
  },
  {
   "cell_type": "code",
   "execution_count": 66,
   "metadata": {},
   "outputs": [
    {
     "name": "stdout",
     "output_type": "stream",
     "text": [
      "Score = 0.990702\n"
     ]
    }
   ],
   "source": [
    "#Implementing Linear Regression Algorithm.\n",
    "\n",
    "#import linear_model library from sklearn.\n",
    "from sklearn import linear_model\n",
    "\n",
    "#get LinearRegression Algorithm.\n",
    "#Linear regression parameters - http://scikit-learn.org/stable/modules/generated/sklearn.linear_model.LinearRegression.html\n",
    "\n",
    "lin_reg = linear_model.LinearRegression()\n",
    "\n",
    "#fit the training data.\n",
    "lin_reg.fit(train_dataset,train_labels)\n",
    "\n",
    "#predictions \n",
    "train_predictions = lin_reg.predict(train_dataset)\n",
    "\n",
    "#Score = Coefficient of Determination = https://en.wikipedia.org/wiki/Coefficient_of_determination\n",
    "#Score = 1 means good fit, -1 means bad fit.\n",
    "#Score = 0 means constant model that always predicts the expected value of y, disregarding the input features.\n",
    "print('Score = %f'%lin_reg.score(train_dataset,train_labels))"
   ]
  },
  {
   "cell_type": "code",
   "execution_count": 76,
   "metadata": {},
   "outputs": [
    {
     "data": {
      "image/png": "[encoded data removed]",
      "text/plain": [
       "<matplotlib.figure.Figure at 0x25746ccf470>"
      ]
     },
     "metadata": {},
     "output_type": "display_data"
    }
   ],
   "source": [
    "#Lets see our algorithm fits the data.\n",
    "#red points are features vs actual target values.\n",
    "#black line corresponds to features vs predicted target values.\n",
    "\n",
    "plt.figure()\n",
    "plt.plot(train_dataset,train_labels,'rx',label='X Vs Y(actual)')\n",
    "plt.plot(train_dataset,train_predictions,'black',label=\"X Vs Y(predicted)\")\n",
    "plt.xlabel('X')\n",
    "plt.ylabel('Y(act/pred)')\n",
    "plt.title('X Vs Y')\n",
    "plt.legend()\n",
    "plt.show()"
   ]
  },
  {
   "cell_type": "code",
   "execution_count": 77,
   "metadata": {},
   "outputs": [
    {
     "name": "stdout",
     "output_type": "stream",
     "text": [
      "Test Shape : (300, 2)\n",
      "\n",
      "Test Dataset :\n"
     ]
    },
    {
     "data": {
      "text/html": [
       "<div>\n",
       "<style>\n",
       "    .dataframe thead tr:only-child th {\n",
       "        text-align: right;\n",
       "    }\n",
       "\n",
       "    .dataframe thead th {\n",
       "        text-align: left;\n",
       "    }\n",
       "\n",
       "    .dataframe tbody tr th {\n",
       "        vertical-align: top;\n",
       "    }\n",
       "</style>\n",
       "<table border=\"1\" class=\"dataframe\">\n",
       "  <thead>\n",
       "    <tr style=\"text-align: right;\">\n",
       "      <th></th>\n",
       "      <th>x</th>\n",
       "      <th>y</th>\n",
       "    </tr>\n",
       "  </thead>\n",
       "  <tbody>\n",
       "    <tr>\n",
       "      <th>0</th>\n",
       "      <td>77</td>\n",
       "      <td>79.775152</td>\n",
       "    </tr>\n",
       "    <tr>\n",
       "      <th>1</th>\n",
       "      <td>21</td>\n",
       "      <td>23.177279</td>\n",
       "    </tr>\n",
       "    <tr>\n",
       "      <th>2</th>\n",
       "      <td>22</td>\n",
       "      <td>25.609262</td>\n",
       "    </tr>\n",
       "    <tr>\n",
       "      <th>3</th>\n",
       "      <td>20</td>\n",
       "      <td>17.857388</td>\n",
       "    </tr>\n",
       "    <tr>\n",
       "      <th>4</th>\n",
       "      <td>36</td>\n",
       "      <td>41.849864</td>\n",
       "    </tr>\n",
       "    <tr>\n",
       "      <th>5</th>\n",
       "      <td>15</td>\n",
       "      <td>9.805235</td>\n",
       "    </tr>\n",
       "    <tr>\n",
       "      <th>6</th>\n",
       "      <td>62</td>\n",
       "      <td>58.874659</td>\n",
       "    </tr>\n",
       "    <tr>\n",
       "      <th>7</th>\n",
       "      <td>95</td>\n",
       "      <td>97.617937</td>\n",
       "    </tr>\n",
       "    <tr>\n",
       "      <th>8</th>\n",
       "      <td>20</td>\n",
       "      <td>18.395127</td>\n",
       "    </tr>\n",
       "    <tr>\n",
       "      <th>9</th>\n",
       "      <td>5</td>\n",
       "      <td>8.746748</td>\n",
       "    </tr>\n",
       "  </tbody>\n",
       "</table>\n",
       "</div>"
      ],
      "text/plain": [
       "    x          y\n",
       "0  77  79.775152\n",
       "1  21  23.177279\n",
       "2  22  25.609262\n",
       "3  20  17.857388\n",
       "4  36  41.849864\n",
       "5  15   9.805235\n",
       "6  62  58.874659\n",
       "7  95  97.617937\n",
       "8  20  18.395127\n",
       "9   5   8.746748"
      ]
     },
     "execution_count": 77,
     "metadata": {},
     "output_type": "execute_result"
    }
   ],
   "source": [
    "#Get the test dataset \n",
    "\n",
    "path = r'E:\\Study n Work\\Machine Learning\\Linear Regression\\Data\\test.csv'\n",
    "test_data = pd.read_csv(path)\n",
    "print(\"Test Shape : {0}\".format(test_data.shape))\n",
    "print('\\nTest Dataset :')\n",
    "test_data[0:10]"
   ]
  },
  {
   "cell_type": "code",
   "execution_count": 78,
   "metadata": {},
   "outputs": [
    {
     "name": "stdout",
     "output_type": "stream",
     "text": [
      "Test Dataset shape = (300, 1)\n",
      "Test Labels shape  = (300, 1)\n"
     ]
    }
   ],
   "source": [
    "#Separating test_data into test_dataset(features) and test_labels(target)\n",
    "test_dataset = np.array(test_data['x'],dtype=np.float32).reshape(-1,1)\n",
    "test_labels = np.array(test_data['y'],dtype= np.float32).reshape(-1,1)\n",
    "print(\"Test Dataset shape = {0}\".format(test_dataset.shape))\n",
    "print(\"Test Labels shape  = {0}\".format(test_labels.shape))"
   ]
  },
  {
   "cell_type": "code",
   "execution_count": 79,
   "metadata": {},
   "outputs": [
    {
     "name": "stdout",
     "output_type": "stream",
     "text": [
      "Before Normalization :\n",
      "[[ 77.]\n",
      " [ 21.]\n",
      " [ 22.]\n",
      " [ 20.]\n",
      " [ 36.]\n",
      " [ 15.]\n",
      " [ 62.]\n",
      " [ 95.]\n",
      " [ 20.]\n",
      " [  5.]]\n",
      "\n",
      "After Normalization :\n",
      "[[ 0.91589314]\n",
      " [-1.05200624]\n",
      " [-1.01686525]\n",
      " [-1.08714736]\n",
      " [-0.52489036]\n",
      " [-1.26285267]\n",
      " [ 0.3887772 ]\n",
      " [ 1.54843223]\n",
      " [-1.08714736]\n",
      " [-1.6142633 ]]\n"
     ]
    }
   ],
   "source": [
    "#Performing Normalization on the Test_dataset\n",
    "print('Before Normalization :')\n",
    "print(test_dataset[0:10])\n",
    "\n",
    "mean = test_dataset[:,0].mean()\n",
    "std = np.std(test_dataset[:,0])\n",
    "test_dataset[:,0] = (test_dataset[:,0]-mean)/std\n",
    "\n",
    "print('\\nAfter Normalization :')\n",
    "print(test_dataset[0:10])"
   ]
  },
  {
   "cell_type": "code",
   "execution_count": 80,
   "metadata": {},
   "outputs": [
    {
     "data": {
      "image/png": "[encoded data removed]",
      "text/plain": [
       "<matplotlib.figure.Figure at 0x25746d5de48>"
      ]
     },
     "metadata": {},
     "output_type": "display_data"
    }
   ],
   "source": [
    "#Plotting the test dataset\n",
    "plt.plot(test_dataset,test_labels,'rx')\n",
    "plt.xlabel('X')\n",
    "plt.ylabel(\"Y(actual)\")\n",
    "plt.title('X vs Y(actual)')\n",
    "plt.show()"
   ]
  },
  {
   "cell_type": "code",
   "execution_count": 81,
   "metadata": {},
   "outputs": [
    {
     "name": "stdout",
     "output_type": "stream",
     "text": [
      "Test Score = 0.987211\n"
     ]
    }
   ],
   "source": [
    "#making predictions using the trained model\n",
    "test_predictions = lin_reg.predict(test_dataset)\n",
    "score = lin_reg.score(test_dataset,test_labels)\n",
    "print('Test Score = %f'%score)"
   ]
  },
  {
   "cell_type": "code",
   "execution_count": 83,
   "metadata": {},
   "outputs": [
    {
     "data": {
      "image/png": "[encoded data removed]",
      "text/plain": [
       "<matplotlib.figure.Figure at 0x25746ec2048>"
      ]
     },
     "metadata": {},
     "output_type": "display_data"
    }
   ],
   "source": [
    "#Plotting the test_dataset vs test-labels\n",
    "#red crosses are test_dataset vs actual test_labels \n",
    "#black line corresponds to test_dataset vs predicted test_labels\n",
    "\n",
    "plt.figure()\n",
    "plt.plot(test_dataset,test_labels,'rx',label='X vs Y(actual)')\n",
    "plt.plot(test_dataset,test_predictions,'black',label='X vs Y(predicted)')\n",
    "plt.xlabel('X')\n",
    "plt.ylabel('Y(act/pred)')\n",
    "plt.title('X vs Y')\n",
    "plt.legend()\n",
    "plt.show()"
   ]
  }
 ],
 "metadata": {
  "kernelspec": {
   "display_name": "Python 3",
   "language": "python",
   "name": "python3"
  },
  "language_info": {
   "codemirror_mode": {
    "name": "ipython",
    "version": 3
   },
   "file_extension": ".py",
   "mimetype": "text/x-python",
   "name": "python",
   "nbconvert_exporter": "python",
   "pygments_lexer": "ipython3",
   "version": "3.6.1"
  }
 },
 "nbformat": 4,
 "nbformat_minor": 2
}
