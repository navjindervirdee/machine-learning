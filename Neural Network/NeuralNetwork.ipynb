{
 "cells": [
  {
   "cell_type": "code",
   "execution_count": 423,
   "metadata": {},
   "outputs": [
    {
     "name": "stdout",
     "output_type": "stream",
     "text": [
      "Data Shape   = (150, 4)\n",
      "Target Shape = (150,)\n",
      "Sample data : [ 5.1  3.5  1.4  0.2]\n"
     ]
    }
   ],
   "source": [
    "#Implementing Neural Network from Scratch.\n",
    "#Neural Networks are really powerful algorithms used for classification.\n",
    "#Dataset = Iris_Dataset\n",
    "#Link = http://scikit-learn.org/stable/auto_examples/datasets/plot_iris_dataset.html\n",
    "\n",
    "#get dataset\n",
    "from sklearn import datasets\n",
    "iris = datasets.load_iris()\n",
    "data = iris.data\n",
    "target = iris.target\n",
    "\n",
    "\n",
    "print(\"Data Shape   = {}\".format(data.shape))\n",
    "print(\"Target Shape = {}\".format(target.shape))\n",
    "print('Sample data : {}'.format(data[0]))"
   ]
  },
  {
   "cell_type": "code",
   "execution_count": 424,
   "metadata": {},
   "outputs": [],
   "source": [
    "#define layer_neurons\n",
    "input_units  = 4\n",
    "hidden_units = 8\n",
    "output_units = 3\n",
    "\n",
    "#num of target labels\n",
    "num_classes=3\n",
    "\n",
    "#define hyper-parameters\n",
    "learning_rate = 0.3\n",
    "#regularization parameter\n",
    "beta = 0.0001\n",
    "\n",
    "#num of iterations\n",
    "iters = 4001"
   ]
  },
  {
   "cell_type": "code",
   "execution_count": 425,
   "metadata": {
    "collapsed": true
   },
   "outputs": [],
   "source": [
    "#activation function\n",
    "def sigmoid(X):\n",
    "    return 1/(1+np.exp((-1)*X))"
   ]
  },
  {
   "cell_type": "code",
   "execution_count": 426,
   "metadata": {},
   "outputs": [],
   "source": [
    "#Implementation of 3 layer Neural Network\n",
    "\n",
    "import numpy as np\n",
    "\n",
    "#To store Error after every iteration.\n",
    "J = []\n",
    "\n",
    "#training function\n",
    "def train(train_dataset,train_labels):\n",
    "    #initial values should have zero mean and 0.1 standard deviation\n",
    "    mean = 0\n",
    "    std = 0.1\n",
    "\n",
    "    #WEIGHTS\n",
    "    global layer1_weights\n",
    "    global layer1_biases\n",
    "    global layer2_weights\n",
    "    global layer2_biases\n",
    "    \n",
    "    layer1_weights = np.random.normal(mean,std,(input_units,hidden_units))\n",
    "    layer1_biases = np.ones(hidden_units)\n",
    "    layer2_weights = np.random.normal(mean,std,(hidden_units,output_units))\n",
    "    layer2_biases = np.ones(output_units)\n",
    "\n",
    "    for j in range(iters):\n",
    "        #to calculate partial derivates.\n",
    "        partial_derivates1 = np.zeros([input_units,hidden_units])\n",
    "        partial_derivates2 = np.zeros([hidden_units,output_units])\n",
    "        \n",
    "        #loop the whole training set.\n",
    "        for i in range(len(train_dataset)):\n",
    "            #forward propagation\n",
    "            logits = np.matmul(train_dataset[i,:],layer1_weights) + layer1_biases\n",
    "            activation1 = np.array(sigmoid(logits)).reshape(1,hidden_units)\n",
    "            activation2 = np.array(np.matmul(activation1,layer2_weights) + layer2_biases).reshape(1,output_units)\n",
    "\n",
    "            #backward propagation\n",
    "            true_labels = np.array(train_labels[i,:]).reshape(-1,num_classes)\n",
    "            error_output = np.array(np.transpose(activation2)-np.transpose(true_labels)).reshape(train_labels.shape[1],1)\n",
    "            error_hidden = np.multiply(np.matmul(layer2_weights,error_output),np.transpose(activation1))\n",
    "            error_hidden = np.multiply(error_hidden,(1-np.transpose(activation1)))\n",
    "\n",
    "            #partial derivatives\n",
    "            partial_derivates2 = partial_derivates2 + np.matmul(np.transpose(activation1),np.transpose(error_output))\n",
    "            t_d = np.array(train_dataset[i,:]).reshape(input_units,1)\n",
    "            partial_derivates1 = partial_derivates1 + np.matmul(t_d,np.transpose(error_hidden))\n",
    "        \n",
    "        partial_derivates2 = (partial_derivates2 + 2*beta*layer2_weights)/len(train_dataset)\n",
    "        partial_derivates1 = (partial_derivates1 + 2*beta*layer1_weights)/len(train_dataset)\n",
    "\n",
    "        #update weights\n",
    "        layer1_weights = layer1_weights - learning_rate*(partial_derivates1)\n",
    "        layer2_weights = layer2_weights - learning_rate*(partial_derivates2)\n",
    "\n",
    "        #loss\n",
    "        _,_,loss = cal_predictions_loss_accuracy(train_dataset,train_labels)\n",
    "        J.append(loss)\n",
    "        \n",
    "        #print accuracy and loss\n",
    "        if(j%500==0):\n",
    "            predictions,accuracy,loss = cal_predictions_loss_accuracy(train_dataset,train_labels)\n",
    "            print(\"Step %d\"%j)\n",
    "            print(\"Loss %f\"%loss)\n",
    "            print(\"Accuracy %f%%\"%(accuracy*100))\n",
    "        \n",
    "     \n",
    "#calculate accuracy predictions and loss.    \n",
    "def cal_predictions_loss_accuracy(train_dataset,train_labels):\n",
    "    logits = sigmoid(np.matmul(train_dataset,layer1_weights) + layer1_biases)\n",
    "    logits = sigmoid(np.matmul(logits,layer2_weights) + layer2_biases)\n",
    "    \n",
    "    #predictions\n",
    "    predictions = np.argmax(logits,axis=1) \n",
    "    accuracy = np.sum(np.argmax(logits,axis=1) == np.argmax(train_labels,axis=1))/len(train_labels)\n",
    "    \n",
    "    loss = 0\n",
    "    for i in range(train_labels.shape[0]):\n",
    "        for j in range(train_labels.shape[1]):\n",
    "            loss = loss +  (-1)*(train_labels[i,j]*(np.log(logits[i,j])) + (1-train_labels[i,j])*(np.log(1-logits[i,j])))\n",
    "    loss = loss/len(train_labels)\n",
    "    \n",
    "    return predictions,accuracy,loss"
   ]
  },
  {
   "cell_type": "code",
   "execution_count": 427,
   "metadata": {},
   "outputs": [],
   "source": [
    "train_dataset = np.array(data).reshape(-1,4)\n",
    "train_labels = np.zeros([data.shape[0],num_classes])\n",
    "\n",
    "#one-hot encoding\n",
    "for i,label in enumerate(target):\n",
    "    train_labels[i,label] = 1\n",
    "\n",
    "#normalizations\n",
    "for i in range(train_dataset.shape[1]):\n",
    "    mean = train_dataset[:,i].mean()\n",
    "    std = train_dataset[:,i].std()\n",
    "    train_dataset[:,i] = (train_dataset[:,i]-mean)/std"
   ]
  },
  {
   "cell_type": "code",
   "execution_count": 428,
   "metadata": {},
   "outputs": [
    {
     "name": "stdout",
     "output_type": "stream",
     "text": [
      "Step 0\n",
      "Loss 2.169661\n",
      "Accuracy 33.333333%\n",
      "Step 500\n",
      "Loss 1.816690\n",
      "Accuracy 96.000000%\n",
      "Step 1000\n",
      "Loss 1.766285\n",
      "Accuracy 96.000000%\n",
      "Step 1500\n",
      "Loss 1.755319\n",
      "Accuracy 96.000000%\n",
      "Step 2000\n",
      "Loss 1.751633\n",
      "Accuracy 96.666667%\n",
      "Step 2500\n",
      "Loss 1.749714\n",
      "Accuracy 97.333333%\n",
      "Step 3000\n",
      "Loss 1.748329\n",
      "Accuracy 97.333333%\n",
      "Step 3500\n",
      "Loss 1.747160\n",
      "Accuracy 97.333333%\n",
      "Step 4000\n",
      "Loss 1.746113\n",
      "Accuracy 97.333333%\n"
     ]
    }
   ],
   "source": [
    "#train data\n",
    "train(train_dataset,train_labels)"
   ]
  },
  {
   "cell_type": "code",
   "execution_count": 429,
   "metadata": {},
   "outputs": [
    {
     "data": {
      "image/png": "[encoded data removed]",
      "text/plain": [
       "<matplotlib.figure.Figure at 0x239c295f208>"
      ]
     },
     "metadata": {},
     "output_type": "display_data"
    }
   ],
   "source": [
    "#plot loss graph\n",
    "import matplotlib.pyplot as plt\n",
    "plt.plot(list(range(1,iters)),J[1:])\n",
    "plt.xlabel('Iterations')\n",
    "plt.ylabel('Loss')\n",
    "plt.title('Iterations VS Loss')\n",
    "plt.show()"
   ]
  }
 ],
 "metadata": {
  "kernelspec": {
   "display_name": "Python 3",
   "language": "python",
   "name": "python3"
  },
  "language_info": {
   "codemirror_mode": {
    "name": "ipython",
    "version": 3
   },
   "file_extension": ".py",
   "mimetype": "text/x-python",
   "name": "python",
   "nbconvert_exporter": "python",
   "pygments_lexer": "ipython3",
   "version": "3.6.1"
  }
 },
 "nbformat": 4,
 "nbformat_minor": 2
}
