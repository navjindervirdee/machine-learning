{
 "cells": [
  {
   "cell_type": "markdown",
   "metadata": {},
   "source": [
    "# Get Training Data\n"
   ]
  },
  {
   "cell_type": "code",
   "execution_count": 4,
   "metadata": {},
   "outputs": [
    {
     "name": "stdout",
     "output_type": "stream",
     "text": [
      "Training_Dataset: \n",
      "Size = (891, 12) \n",
      "Features = ['PassengerId' 'Survived' 'Pclass' 'Name' 'Sex' 'Age' 'SibSp' 'Parch'\n",
      " 'Ticket' 'Fare' 'Cabin' 'Embarked']\n"
     ]
    }
   ],
   "source": [
    "#Get Training Data. Survived values are the train_labesls\n",
    "import pandas as pd\n",
    "data = pd.read_csv(r'E:\\Study n Work\\Kaggle\\Titanic Machine Learning from Disaster\\Data\\train.csv')\n",
    "\n",
    "print(\"Training_Dataset: \\nSize = {1} \\nFeatures = {0}\".format(data.columns.values,data.shape))"
   ]
  },
  {
   "cell_type": "code",
   "execution_count": 5,
   "metadata": {},
   "outputs": [
    {
     "name": "stdout",
     "output_type": "stream",
     "text": [
      "(891, 11)\n"
     ]
    }
   ],
   "source": [
    "#del PassengerId\n",
    "del data[\"PassengerId\"]\n",
    "print(data.shape)"
   ]
  },
  {
   "cell_type": "markdown",
   "metadata": {},
   "source": [
    "# Feature Pclass"
   ]
  },
  {
   "cell_type": "code",
   "execution_count": 6,
   "metadata": {},
   "outputs": [
    {
     "name": "stdout",
     "output_type": "stream",
     "text": [
      "Feature - Pclass\n",
      "No. of nan: 0\n",
      "\n",
      "Correlation between Pclass and Survived:\n"
     ]
    },
    {
     "data": {
      "text/html": [
       "<div>\n",
       "<style>\n",
       "    .dataframe thead tr:only-child th {\n",
       "        text-align: right;\n",
       "    }\n",
       "\n",
       "    .dataframe thead th {\n",
       "        text-align: left;\n",
       "    }\n",
       "\n",
       "    .dataframe tbody tr th {\n",
       "        vertical-align: top;\n",
       "    }\n",
       "</style>\n",
       "<table border=\"1\" class=\"dataframe\">\n",
       "  <thead>\n",
       "    <tr style=\"text-align: right;\">\n",
       "      <th></th>\n",
       "      <th>Pclass</th>\n",
       "      <th>Survived</th>\n",
       "    </tr>\n",
       "  </thead>\n",
       "  <tbody>\n",
       "    <tr>\n",
       "      <th>0</th>\n",
       "      <td>1</td>\n",
       "      <td>0.629630</td>\n",
       "    </tr>\n",
       "    <tr>\n",
       "      <th>1</th>\n",
       "      <td>2</td>\n",
       "      <td>0.472826</td>\n",
       "    </tr>\n",
       "    <tr>\n",
       "      <th>2</th>\n",
       "      <td>3</td>\n",
       "      <td>0.242363</td>\n",
       "    </tr>\n",
       "  </tbody>\n",
       "</table>\n",
       "</div>"
      ],
      "text/plain": [
       "   Pclass  Survived\n",
       "0       1  0.629630\n",
       "1       2  0.472826\n",
       "2       3  0.242363"
      ]
     },
     "execution_count": 6,
     "metadata": {},
     "output_type": "execute_result"
    }
   ],
   "source": [
    "#Feature Pclass\n",
    "print('Feature - Pclass')\n",
    "print(\"No. of nan: %d\\n\"%sum(data['Pclass'].isnull()))\n",
    "print(\"Correlation between Pclass and Survived:\")\n",
    "data[['Pclass','Survived']].groupby(['Pclass'],as_index=False).mean()"
   ]
  },
  {
   "cell_type": "markdown",
   "metadata": {},
   "source": [
    "# Feature Sex"
   ]
  },
  {
   "cell_type": "code",
   "execution_count": 7,
   "metadata": {},
   "outputs": [
    {
     "name": "stdout",
     "output_type": "stream",
     "text": [
      "Feature - Sex\n",
      "No. of nan = 0\n",
      "\n",
      "Correlation between Sex and Survived:\n"
     ]
    },
    {
     "data": {
      "text/html": [
       "<div>\n",
       "<style>\n",
       "    .dataframe thead tr:only-child th {\n",
       "        text-align: right;\n",
       "    }\n",
       "\n",
       "    .dataframe thead th {\n",
       "        text-align: left;\n",
       "    }\n",
       "\n",
       "    .dataframe tbody tr th {\n",
       "        vertical-align: top;\n",
       "    }\n",
       "</style>\n",
       "<table border=\"1\" class=\"dataframe\">\n",
       "  <thead>\n",
       "    <tr style=\"text-align: right;\">\n",
       "      <th></th>\n",
       "      <th>Sex</th>\n",
       "      <th>Survived</th>\n",
       "    </tr>\n",
       "  </thead>\n",
       "  <tbody>\n",
       "    <tr>\n",
       "      <th>0</th>\n",
       "      <td>female</td>\n",
       "      <td>0.742038</td>\n",
       "    </tr>\n",
       "    <tr>\n",
       "      <th>1</th>\n",
       "      <td>male</td>\n",
       "      <td>0.188908</td>\n",
       "    </tr>\n",
       "  </tbody>\n",
       "</table>\n",
       "</div>"
      ],
      "text/plain": [
       "      Sex  Survived\n",
       "0  female  0.742038\n",
       "1    male  0.188908"
      ]
     },
     "execution_count": 7,
     "metadata": {},
     "output_type": "execute_result"
    }
   ],
   "source": [
    "#Feature- Sex\n",
    "print('Feature - Sex')\n",
    "print(\"No. of nan = %d\\n\" %sum(data['Sex'].isnull()))\n",
    "print('Correlation between Sex and Survived:')\n",
    "data[['Sex','Survived']].groupby('Sex',as_index=False).mean()"
   ]
  },
  {
   "cell_type": "code",
   "execution_count": 8,
   "metadata": {},
   "outputs": [
    {
     "data": {
      "text/html": [
       "<div>\n",
       "<style>\n",
       "    .dataframe thead tr:only-child th {\n",
       "        text-align: right;\n",
       "    }\n",
       "\n",
       "    .dataframe thead th {\n",
       "        text-align: left;\n",
       "    }\n",
       "\n",
       "    .dataframe tbody tr th {\n",
       "        vertical-align: top;\n",
       "    }\n",
       "</style>\n",
       "<table border=\"1\" class=\"dataframe\">\n",
       "  <thead>\n",
       "    <tr style=\"text-align: right;\">\n",
       "      <th></th>\n",
       "      <th>Sex</th>\n",
       "      <th>Survived</th>\n",
       "    </tr>\n",
       "  </thead>\n",
       "  <tbody>\n",
       "    <tr>\n",
       "      <th>0</th>\n",
       "      <td>0</td>\n",
       "      <td>0.742038</td>\n",
       "    </tr>\n",
       "    <tr>\n",
       "      <th>1</th>\n",
       "      <td>1</td>\n",
       "      <td>0.188908</td>\n",
       "    </tr>\n",
       "  </tbody>\n",
       "</table>\n",
       "</div>"
      ],
      "text/plain": [
       "   Sex  Survived\n",
       "0    0  0.742038\n",
       "1    1  0.188908"
      ]
     },
     "execution_count": 8,
     "metadata": {},
     "output_type": "execute_result"
    }
   ],
   "source": [
    "#Assign female = 0 and male = 1\n",
    "data['Sex'] = data['Sex'].replace({'female':0,'male':1})\n",
    "data[['Sex','Survived']].groupby('Sex',as_index=False).mean()"
   ]
  },
  {
   "cell_type": "markdown",
   "metadata": {},
   "source": [
    "# Feature Sibsp"
   ]
  },
  {
   "cell_type": "code",
   "execution_count": 9,
   "metadata": {},
   "outputs": [
    {
     "data": {
      "text/html": [
       "<div>\n",
       "<style>\n",
       "    .dataframe thead tr:only-child th {\n",
       "        text-align: right;\n",
       "    }\n",
       "\n",
       "    .dataframe thead th {\n",
       "        text-align: left;\n",
       "    }\n",
       "\n",
       "    .dataframe tbody tr th {\n",
       "        vertical-align: top;\n",
       "    }\n",
       "</style>\n",
       "<table border=\"1\" class=\"dataframe\">\n",
       "  <thead>\n",
       "    <tr style=\"text-align: right;\">\n",
       "      <th></th>\n",
       "      <th>SibSp</th>\n",
       "      <th>Survived</th>\n",
       "    </tr>\n",
       "  </thead>\n",
       "  <tbody>\n",
       "    <tr>\n",
       "      <th>0</th>\n",
       "      <td>0</td>\n",
       "      <td>0.345395</td>\n",
       "    </tr>\n",
       "    <tr>\n",
       "      <th>1</th>\n",
       "      <td>1</td>\n",
       "      <td>0.535885</td>\n",
       "    </tr>\n",
       "    <tr>\n",
       "      <th>2</th>\n",
       "      <td>2</td>\n",
       "      <td>0.464286</td>\n",
       "    </tr>\n",
       "    <tr>\n",
       "      <th>3</th>\n",
       "      <td>3</td>\n",
       "      <td>0.250000</td>\n",
       "    </tr>\n",
       "    <tr>\n",
       "      <th>4</th>\n",
       "      <td>4</td>\n",
       "      <td>0.166667</td>\n",
       "    </tr>\n",
       "    <tr>\n",
       "      <th>5</th>\n",
       "      <td>5</td>\n",
       "      <td>0.000000</td>\n",
       "    </tr>\n",
       "    <tr>\n",
       "      <th>6</th>\n",
       "      <td>8</td>\n",
       "      <td>0.000000</td>\n",
       "    </tr>\n",
       "  </tbody>\n",
       "</table>\n",
       "</div>"
      ],
      "text/plain": [
       "   SibSp  Survived\n",
       "0      0  0.345395\n",
       "1      1  0.535885\n",
       "2      2  0.464286\n",
       "3      3  0.250000\n",
       "4      4  0.166667\n",
       "5      5  0.000000\n",
       "6      8  0.000000"
      ]
     },
     "execution_count": 9,
     "metadata": {},
     "output_type": "execute_result"
    }
   ],
   "source": [
    "#Feature - SibSp = Sibling and Spouse\n",
    "data[['SibSp','Survived']].groupby('SibSp',as_index=False).mean()"
   ]
  },
  {
   "cell_type": "markdown",
   "metadata": {},
   "source": [
    "# Feature Parch"
   ]
  },
  {
   "cell_type": "code",
   "execution_count": 10,
   "metadata": {},
   "outputs": [
    {
     "data": {
      "text/html": [
       "<div>\n",
       "<style>\n",
       "    .dataframe thead tr:only-child th {\n",
       "        text-align: right;\n",
       "    }\n",
       "\n",
       "    .dataframe thead th {\n",
       "        text-align: left;\n",
       "    }\n",
       "\n",
       "    .dataframe tbody tr th {\n",
       "        vertical-align: top;\n",
       "    }\n",
       "</style>\n",
       "<table border=\"1\" class=\"dataframe\">\n",
       "  <thead>\n",
       "    <tr style=\"text-align: right;\">\n",
       "      <th></th>\n",
       "      <th>Survived</th>\n",
       "    </tr>\n",
       "    <tr>\n",
       "      <th>Parch</th>\n",
       "      <th></th>\n",
       "    </tr>\n",
       "  </thead>\n",
       "  <tbody>\n",
       "    <tr>\n",
       "      <th>0</th>\n",
       "      <td>0.343658</td>\n",
       "    </tr>\n",
       "    <tr>\n",
       "      <th>1</th>\n",
       "      <td>0.550847</td>\n",
       "    </tr>\n",
       "    <tr>\n",
       "      <th>2</th>\n",
       "      <td>0.500000</td>\n",
       "    </tr>\n",
       "    <tr>\n",
       "      <th>3</th>\n",
       "      <td>0.600000</td>\n",
       "    </tr>\n",
       "    <tr>\n",
       "      <th>4</th>\n",
       "      <td>0.000000</td>\n",
       "    </tr>\n",
       "    <tr>\n",
       "      <th>5</th>\n",
       "      <td>0.200000</td>\n",
       "    </tr>\n",
       "    <tr>\n",
       "      <th>6</th>\n",
       "      <td>0.000000</td>\n",
       "    </tr>\n",
       "  </tbody>\n",
       "</table>\n",
       "</div>"
      ],
      "text/plain": [
       "       Survived\n",
       "Parch          \n",
       "0      0.343658\n",
       "1      0.550847\n",
       "2      0.500000\n",
       "3      0.600000\n",
       "4      0.000000\n",
       "5      0.200000\n",
       "6      0.000000"
      ]
     },
     "execution_count": 10,
     "metadata": {},
     "output_type": "execute_result"
    }
   ],
   "source": [
    "#Feature - Parch = Parent and Children\n",
    "data[['Parch','Survived']].groupby('Parch').mean()"
   ]
  },
  {
   "cell_type": "code",
   "execution_count": 11,
   "metadata": {},
   "outputs": [
    {
     "data": {
      "text/html": [
       "<div>\n",
       "<style>\n",
       "    .dataframe thead tr:only-child th {\n",
       "        text-align: right;\n",
       "    }\n",
       "\n",
       "    .dataframe thead th {\n",
       "        text-align: left;\n",
       "    }\n",
       "\n",
       "    .dataframe tbody tr th {\n",
       "        vertical-align: top;\n",
       "    }\n",
       "</style>\n",
       "<table border=\"1\" class=\"dataframe\">\n",
       "  <thead>\n",
       "    <tr style=\"text-align: right;\">\n",
       "      <th></th>\n",
       "      <th>Family</th>\n",
       "      <th>Survived</th>\n",
       "    </tr>\n",
       "  </thead>\n",
       "  <tbody>\n",
       "    <tr>\n",
       "      <th>0</th>\n",
       "      <td>1</td>\n",
       "      <td>0.552795</td>\n",
       "    </tr>\n",
       "    <tr>\n",
       "      <th>1</th>\n",
       "      <td>2</td>\n",
       "      <td>0.578431</td>\n",
       "    </tr>\n",
       "    <tr>\n",
       "      <th>2</th>\n",
       "      <td>3</td>\n",
       "      <td>0.724138</td>\n",
       "    </tr>\n",
       "    <tr>\n",
       "      <th>3</th>\n",
       "      <td>4</td>\n",
       "      <td>0.288815</td>\n",
       "    </tr>\n",
       "  </tbody>\n",
       "</table>\n",
       "</div>"
      ],
      "text/plain": [
       "   Family  Survived\n",
       "0       1  0.552795\n",
       "1       2  0.578431\n",
       "2       3  0.724138\n",
       "3       4  0.288815"
      ]
     },
     "execution_count": 11,
     "metadata": {},
     "output_type": "execute_result"
    }
   ],
   "source": [
    "#Feature Family = SibSp + Parch (which  gives more good probability\n",
    "data['Family'] = data['Parch'] + data['SibSp']\n",
    "data.Family = data.Family.map(lambda x : 4 if x>=4 or x==0 else x)\n",
    "del data['Parch']\n",
    "del data['SibSp']\n",
    "data[['Family','Survived']].groupby('Family',as_index=False).mean()"
   ]
  },
  {
   "cell_type": "markdown",
   "metadata": {},
   "source": [
    "# Feature Cabin"
   ]
  },
  {
   "cell_type": "code",
   "execution_count": 12,
   "metadata": {},
   "outputs": [
    {
     "name": "stdout",
     "output_type": "stream",
     "text": [
      "Nan values :  687\n"
     ]
    }
   ],
   "source": [
    "#Feature - Cabin contains 687/891 nan values\n",
    "print(\"Nan values :  %d\" %sum(data['Cabin'].isnull()))\n",
    "del data['Cabin']"
   ]
  },
  {
   "cell_type": "markdown",
   "metadata": {},
   "source": [
    "# Feature Embarked"
   ]
  },
  {
   "cell_type": "code",
   "execution_count": 13,
   "metadata": {},
   "outputs": [
    {
     "name": "stdout",
     "output_type": "stream",
     "text": [
      "S    644\n",
      "C    168\n",
      "Q     77\n",
      "A      2\n",
      "Name: Embarked, dtype: int64\n",
      "1    85\n",
      "3    66\n",
      "2    17\n",
      "Name: Pclass, dtype: int64\n"
     ]
    },
    {
     "data": {
      "text/html": [
       "<div>\n",
       "<style>\n",
       "    .dataframe thead tr:only-child th {\n",
       "        text-align: right;\n",
       "    }\n",
       "\n",
       "    .dataframe thead th {\n",
       "        text-align: left;\n",
       "    }\n",
       "\n",
       "    .dataframe tbody tr th {\n",
       "        vertical-align: top;\n",
       "    }\n",
       "</style>\n",
       "<table border=\"1\" class=\"dataframe\">\n",
       "  <thead>\n",
       "    <tr style=\"text-align: right;\">\n",
       "      <th></th>\n",
       "      <th>Survived</th>\n",
       "    </tr>\n",
       "    <tr>\n",
       "      <th>Embarked</th>\n",
       "      <th></th>\n",
       "    </tr>\n",
       "  </thead>\n",
       "  <tbody>\n",
       "    <tr>\n",
       "      <th>C</th>\n",
       "      <td>0.553571</td>\n",
       "    </tr>\n",
       "    <tr>\n",
       "      <th>Q</th>\n",
       "      <td>0.389610</td>\n",
       "    </tr>\n",
       "    <tr>\n",
       "      <th>S</th>\n",
       "      <td>0.339009</td>\n",
       "    </tr>\n",
       "  </tbody>\n",
       "</table>\n",
       "</div>"
      ],
      "text/plain": [
       "          Survived\n",
       "Embarked          \n",
       "C         0.553571\n",
       "Q         0.389610\n",
       "S         0.339009"
      ]
     },
     "execution_count": 13,
     "metadata": {},
     "output_type": "execute_result"
    }
   ],
   "source": [
    "#Feature - Embarked =  null values are only 2 replaced them with S.\n",
    "data['Embarked'] = data['Embarked'].fillna('A')\n",
    "print(data['Embarked'].value_counts())\n",
    "print(data.Pclass[data.Embarked == 'C'].value_counts())\n",
    "data['Embarked'] = data['Embarked'].replace({'A':'S'})\n",
    "data[['Embarked','Survived']].groupby('Embarked').mean()"
   ]
  },
  {
   "cell_type": "code",
   "execution_count": 14,
   "metadata": {
    "collapsed": true
   },
   "outputs": [],
   "source": [
    "#Assign C Q S = 0 1 2\n",
    "data['Embarked'] = data['Embarked'].replace({'C':0,'Q':1,'S':2})"
   ]
  },
  {
   "cell_type": "markdown",
   "metadata": {},
   "source": [
    "# Feature Name"
   ]
  },
  {
   "cell_type": "code",
   "execution_count": 15,
   "metadata": {},
   "outputs": [
    {
     "data": {
      "text/plain": [
       "0                              Braund, Mr. Owen Harris\n",
       "1    Cumings, Mrs. John Bradley (Florence Briggs Th...\n",
       "2                               Heikkinen, Miss. Laina\n",
       "3         Futrelle, Mrs. Jacques Heath (Lily May Peel)\n",
       "4                             Allen, Mr. William Henry\n",
       "5                                     Moran, Mr. James\n",
       "6                              McCarthy, Mr. Timothy J\n",
       "7                       Palsson, Master. Gosta Leonard\n",
       "8    Johnson, Mrs. Oscar W (Elisabeth Vilhelmina Berg)\n",
       "9                  Nasser, Mrs. Nicholas (Adele Achem)\n",
       "Name: Name, dtype: object"
      ]
     },
     "execution_count": 15,
     "metadata": {},
     "output_type": "execute_result"
    }
   ],
   "source": [
    "#Feature Name\n",
    "data.Name.head(10)"
   ]
  },
  {
   "cell_type": "code",
   "execution_count": 16,
   "metadata": {},
   "outputs": [
    {
     "data": {
      "text/plain": [
       "Mr              517\n",
       "Miss            182\n",
       "Mrs             125\n",
       "Master           40\n",
       "Dr                7\n",
       "Rev               6\n",
       "Mlle              2\n",
       "Col               2\n",
       "Major             2\n",
       "Don               1\n",
       "Sir               1\n",
       "Capt              1\n",
       "Ms                1\n",
       "Lady              1\n",
       "Mme               1\n",
       "Jonkheer          1\n",
       "the Countess      1\n",
       "Name: Title, dtype: int64"
      ]
     },
     "execution_count": 16,
     "metadata": {},
     "output_type": "execute_result"
    }
   ],
   "source": [
    "#Feature Name\n",
    "data['Title'] = data['Name'].map(lambda x: x.split(',')[1].split('.')[0].strip())\n",
    "data['Title'].value_counts()"
   ]
  },
  {
   "cell_type": "code",
   "execution_count": 17,
   "metadata": {},
   "outputs": [
    {
     "data": {
      "text/html": [
       "<div>\n",
       "<style>\n",
       "    .dataframe thead tr:only-child th {\n",
       "        text-align: right;\n",
       "    }\n",
       "\n",
       "    .dataframe thead th {\n",
       "        text-align: left;\n",
       "    }\n",
       "\n",
       "    .dataframe tbody tr th {\n",
       "        vertical-align: top;\n",
       "    }\n",
       "</style>\n",
       "<table border=\"1\" class=\"dataframe\">\n",
       "  <thead>\n",
       "    <tr style=\"text-align: right;\">\n",
       "      <th></th>\n",
       "      <th>Title</th>\n",
       "      <th>Survived</th>\n",
       "    </tr>\n",
       "  </thead>\n",
       "  <tbody>\n",
       "    <tr>\n",
       "      <th>0</th>\n",
       "      <td>Master</td>\n",
       "      <td>0.575000</td>\n",
       "    </tr>\n",
       "    <tr>\n",
       "      <th>1</th>\n",
       "      <td>Miss</td>\n",
       "      <td>0.702703</td>\n",
       "    </tr>\n",
       "    <tr>\n",
       "      <th>2</th>\n",
       "      <td>Mr</td>\n",
       "      <td>0.161905</td>\n",
       "    </tr>\n",
       "    <tr>\n",
       "      <th>3</th>\n",
       "      <td>Mrs</td>\n",
       "      <td>0.793651</td>\n",
       "    </tr>\n",
       "    <tr>\n",
       "      <th>4</th>\n",
       "      <td>other</td>\n",
       "      <td>0.266667</td>\n",
       "    </tr>\n",
       "  </tbody>\n",
       "</table>\n",
       "</div>"
      ],
      "text/plain": [
       "    Title  Survived\n",
       "0  Master  0.575000\n",
       "1    Miss  0.702703\n",
       "2      Mr  0.161905\n",
       "3     Mrs  0.793651\n",
       "4   other  0.266667"
      ]
     },
     "execution_count": 17,
     "metadata": {},
     "output_type": "execute_result"
    }
   ],
   "source": [
    "data['Title'] = data['Title'].replace({'Mlle':'Miss', 'Ms':'Miss','Dr':'Mr','Lady' : 'Mrs','Sir':'Mr'})\n",
    "data['Title'] = data['Title'].map(lambda x : 'other' if x!='Mr' and x!='Mrs' and x!='Miss' and x!='Master' else x)\n",
    "data[['Title','Survived']].groupby('Title',as_index=False).mean()"
   ]
  },
  {
   "cell_type": "code",
   "execution_count": 18,
   "metadata": {},
   "outputs": [
    {
     "data": {
      "text/html": [
       "<div>\n",
       "<style>\n",
       "    .dataframe thead tr:only-child th {\n",
       "        text-align: right;\n",
       "    }\n",
       "\n",
       "    .dataframe thead th {\n",
       "        text-align: left;\n",
       "    }\n",
       "\n",
       "    .dataframe tbody tr th {\n",
       "        vertical-align: top;\n",
       "    }\n",
       "</style>\n",
       "<table border=\"1\" class=\"dataframe\">\n",
       "  <thead>\n",
       "    <tr style=\"text-align: right;\">\n",
       "      <th></th>\n",
       "      <th>Title</th>\n",
       "      <th>Survived</th>\n",
       "    </tr>\n",
       "  </thead>\n",
       "  <tbody>\n",
       "    <tr>\n",
       "      <th>0</th>\n",
       "      <td>0</td>\n",
       "      <td>0.575000</td>\n",
       "    </tr>\n",
       "    <tr>\n",
       "      <th>1</th>\n",
       "      <td>1</td>\n",
       "      <td>0.702703</td>\n",
       "    </tr>\n",
       "    <tr>\n",
       "      <th>2</th>\n",
       "      <td>2</td>\n",
       "      <td>0.161905</td>\n",
       "    </tr>\n",
       "    <tr>\n",
       "      <th>3</th>\n",
       "      <td>3</td>\n",
       "      <td>0.793651</td>\n",
       "    </tr>\n",
       "    <tr>\n",
       "      <th>4</th>\n",
       "      <td>4</td>\n",
       "      <td>0.266667</td>\n",
       "    </tr>\n",
       "  </tbody>\n",
       "</table>\n",
       "</div>"
      ],
      "text/plain": [
       "   Title  Survived\n",
       "0      0  0.575000\n",
       "1      1  0.702703\n",
       "2      2  0.161905\n",
       "3      3  0.793651\n",
       "4      4  0.266667"
      ]
     },
     "execution_count": 18,
     "metadata": {},
     "output_type": "execute_result"
    }
   ],
   "source": [
    "#Assign Master , Miss, Mr, Mrs, other = 0,1,2,3,4\n",
    "del data['Name'] \n",
    "data['Title'] = data['Title'].replace({'Master':0,'Miss':1,'Mr':2,'Mrs':3,'other':4})\n",
    "data[['Title','Survived']].groupby('Title',as_index=False).mean()"
   ]
  },
  {
   "cell_type": "markdown",
   "metadata": {},
   "source": [
    "# Feature Age"
   ]
  },
  {
   "cell_type": "code",
   "execution_count": 19,
   "metadata": {},
   "outputs": [
    {
     "data": {
      "text/plain": [
       "177"
      ]
     },
     "execution_count": 19,
     "metadata": {},
     "output_type": "execute_result"
    }
   ],
   "source": [
    "#Feature Age\n",
    "sum(data.Age.isnull())"
   ]
  },
  {
   "cell_type": "code",
   "execution_count": 20,
   "metadata": {},
   "outputs": [
    {
     "data": {
      "text/plain": [
       "2    120\n",
       "1     36\n",
       "3     17\n",
       "0      4\n",
       "Name: Title, dtype: int64"
      ]
     },
     "execution_count": 20,
     "metadata": {},
     "output_type": "execute_result"
    }
   ],
   "source": [
    "data.Title[data.Age.isnull()].value_counts()"
   ]
  },
  {
   "cell_type": "code",
   "execution_count": 21,
   "metadata": {},
   "outputs": [
    {
     "name": "stdout",
     "output_type": "stream",
     "text": [
      "21.845637583892618 32.55185185185185 36.00917431192661\n"
     ]
    },
    {
     "data": {
      "text/plain": [
       "Series([], Name: Title, dtype: int64)"
      ]
     },
     "execution_count": 21,
     "metadata": {},
     "output_type": "execute_result"
    }
   ],
   "source": [
    "import math\n",
    "m1 = data.Age[data.Title == 1].mean()\n",
    "m2 = data.Age[data.Title == 2].mean()\n",
    "m3 = data.Age[data.Title == 3].mean()\n",
    "print(m1,m2,m3)\n",
    "for i,x in enumerate(data['Age']):\n",
    "    if(math.isnan(x)):\n",
    "        if(data.iloc[i,8]==0):\n",
    "            data.iloc[i,3] = m1\n",
    "        if(data.iloc[i,8]==1):\n",
    "            data.iloc[i,3] = m1\n",
    "        if(data.iloc[i,8]==2):\n",
    "            data.iloc[i,3] = m2\n",
    "        if(data.iloc[i,8]==3):\n",
    "            data.iloc[i,3] = m3\n",
    "    else:\n",
    "        data.iloc[i,3] = x\n",
    "data.Title[data.Age.isnull()].value_counts()"
   ]
  },
  {
   "cell_type": "code",
   "execution_count": 22,
   "metadata": {
    "collapsed": true
   },
   "outputs": [],
   "source": [
    "del data['Ticket']"
   ]
  },
  {
   "cell_type": "code",
   "execution_count": 23,
   "metadata": {
    "collapsed": true
   },
   "outputs": [],
   "source": [
    "data = data.iloc[:,0:8]"
   ]
  },
  {
   "cell_type": "code",
   "execution_count": 24,
   "metadata": {},
   "outputs": [
    {
     "data": {
      "text/plain": [
       "array(['Survived', 'Pclass', 'Sex', 'Age', 'Fare', 'Embarked', 'Family',\n",
       "       'Title'], dtype=object)"
      ]
     },
     "execution_count": 24,
     "metadata": {},
     "output_type": "execute_result"
    }
   ],
   "source": [
    "data.columns.values"
   ]
  },
  {
   "cell_type": "markdown",
   "metadata": {},
   "source": [
    "# Making Dataset And Labels"
   ]
  },
  {
   "cell_type": "code",
   "execution_count": 26,
   "metadata": {},
   "outputs": [
    {
     "name": "stdout",
     "output_type": "stream",
     "text": [
      "(691, 7) (691, 1) (691, 2)\n",
      "(100, 7) (100, 1) (100, 2)\n",
      "(100, 7) (100, 1) (100, 2)\n"
     ]
    }
   ],
   "source": [
    "#making dataset and labels\n",
    "import numpy as np\n",
    "train_dataset = np.array(data.iloc[:,1:8]).reshape(891,7)\n",
    "train_labels = np.array(data.iloc[:,0]).reshape(891,1)\n",
    "\n",
    "#normalizing the train_dataset = (value-avg)/maxV-minV\n",
    "for i in range(train_dataset.shape[1]):\n",
    "    avg = train_dataset[:,i].mean()\n",
    "    maxV = max(train_dataset[:,i])\n",
    "    minV = min(train_dataset[:,i])\n",
    "    #std = np.std(train_dataset[:,i]) #standard deviation\n",
    "    train_dataset[:,i] = (train_dataset[:,i]-avg)/(maxV-minV)\n",
    "\n",
    "#shuffling dataset\n",
    "permutation = np.random.permutation(train_dataset.shape[0])\n",
    "train_dataset = train_dataset[permutation]\n",
    "train_labels = train_labels[permutation]\n",
    "\n",
    "#neural_train_labels\n",
    "neural_train_labels = np.ndarray(shape =(train_labels.shape[0],2),dtype = np.float32)\n",
    "for i,value in enumerate(train_labels):\n",
    "    neural_train_labels[i,int(value)] = 1\n",
    "    neural_train_labels[i,abs(int(value)-1)] = 0\n",
    "\n",
    "\n",
    "#Test_dataset\n",
    "test_dataset = np.array(train_dataset[791:891]).reshape(100,7)\n",
    "test_labels = np.array(train_labels[791:891]).reshape(100,1)\n",
    "neural_test_labels = np.array(neural_train_labels[791:891]).reshape(100,2)\n",
    "\n",
    "#Cross_Valid_dataset\n",
    "valid_dataset = np.array(train_dataset[691:791]).reshape(100,7)\n",
    "valid_labels = np.array(train_labels[691:791]).reshape(100,1)\n",
    "neural_valid_labels = np.array(neural_train_labels[691:791]).reshape(100,2)\n",
    "\n",
    "#train_dataset\n",
    "train_dataset = np.array(train_dataset[0:691]).reshape(691,7)\n",
    "train_labels = np.array(train_labels[0:691]).reshape(691,1)\n",
    "neural_train_labels = np.array(neural_train_labels[0:691]).reshape(691,2)\n",
    "\n",
    "print(train_dataset.shape , train_labels.shape, neural_train_labels.shape)\n",
    "print(valid_dataset.shape , valid_labels.shape, neural_valid_labels.shape)\n",
    "print(test_dataset.shape , test_labels.shape, neural_test_labels.shape)"
   ]
  },
  {
   "cell_type": "markdown",
   "metadata": {},
   "source": [
    "# Logistic Regression"
   ]
  },
  {
   "cell_type": "code",
   "execution_count": 28,
   "metadata": {},
   "outputs": [
    {
     "name": "stdout",
     "output_type": "stream",
     "text": [
      "Training_accuracy = 79%\n",
      "Valid_accuracy = 72%\n",
      "Test_accuracy = 74%\n"
     ]
    },
    {
     "name": "stderr",
     "output_type": "stream",
     "text": [
      "C:\\ProgramData\\Anaconda3\\lib\\site-packages\\sklearn\\utils\\validation.py:547: DataConversionWarning: A column-vector y was passed when a 1d array was expected. Please change the shape of y to (n_samples, ), for example using ravel().\n",
      "  y = column_or_1d(y, warn=True)\n"
     ]
    }
   ],
   "source": [
    "#Logistic Regression\n",
    "from sklearn import linear_model\n",
    "log_reg = linear_model.LogisticRegression(penalty='l2',tol = 0.00001,C=0.01, max_iter=1000000)\n",
    "log_reg.fit(train_dataset,train_labels)\n",
    "\n",
    "log_train_prediction = log_reg.predict(train_dataset)\n",
    "log_valid_prediction = log_reg.predict(valid_dataset)\n",
    "log_test_prediciton = log_reg.predict(test_dataset)\n",
    "\n",
    "print(\"Training_accuracy = %d%%\" %(log_reg.score(train_dataset,train_labels)*100))\n",
    "print(\"Valid_accuracy = %d%%\" %(log_reg.score(valid_dataset,valid_labels)*100))\n",
    "print(\"Test_accuracy = %d%%\" %(log_reg.score(test_dataset,test_labels)*100))"
   ]
  },
  {
   "cell_type": "markdown",
   "metadata": {},
   "source": [
    "# Decision Tree Classifier "
   ]
  },
  {
   "cell_type": "code",
   "execution_count": 29,
   "metadata": {},
   "outputs": [
    {
     "name": "stdout",
     "output_type": "stream",
     "text": [
      "Training_accuracy = 98%\n",
      "Valid_accuracy = 69%\n",
      "Test_accuracy = 81%\n"
     ]
    }
   ],
   "source": [
    "#Decision Tree Classifier.\n",
    "from sklearn import tree\n",
    "dec_tree = tree.DecisionTreeClassifier()\n",
    "dec_tree.fit(train_dataset,train_labels)\n",
    "\n",
    "dec_train_prediction = dec_tree.predict(train_dataset)\n",
    "dec_valid_prediction = dec_tree.predict(valid_dataset)\n",
    "dec_test_prediction = dec_tree.predict(test_dataset)\n",
    "\n",
    "print(\"Training_accuracy = %d%%\" %(dec_tree.score(train_dataset,train_labels)*100))\n",
    "print(\"Valid_accuracy = %d%%\" %(dec_tree.score(valid_dataset,valid_labels)*100))\n",
    "print(\"Test_accuracy = %d%%\" %(dec_tree.score(test_dataset,test_labels)*100))"
   ]
  },
  {
   "cell_type": "markdown",
   "metadata": {},
   "source": [
    "# Random Forest"
   ]
  },
  {
   "cell_type": "code",
   "execution_count": 30,
   "metadata": {},
   "outputs": [
    {
     "name": "stdout",
     "output_type": "stream",
     "text": [
      "Final_Train_Accuracy = 98%\n",
      "Final_Valid_Accuracy = 79%\n",
      "Final_test_Accuracy = 80%\n"
     ]
    },
    {
     "name": "stderr",
     "output_type": "stream",
     "text": [
      "C:\\ProgramData\\Anaconda3\\lib\\site-packages\\ipykernel_launcher.py:4: DataConversionWarning: A column-vector y was passed when a 1d array was expected. Please change the shape of y to (n_samples,), for example using ravel().\n",
      "  after removing the cwd from sys.path.\n"
     ]
    }
   ],
   "source": [
    "#Random forest\n",
    "from sklearn.ensemble import RandomForestClassifier\n",
    "ran_for = RandomForestClassifier(n_estimators=100)\n",
    "ran_for.fit(train_dataset,train_labels)\n",
    "\n",
    "print(\"Final_Train_Accuracy = %d%%\" %(ran_for.score(train_dataset,train_labels)*100))\n",
    "print(\"Final_Valid_Accuracy = %d%%\" %(ran_for.score(valid_dataset,valid_labels)*100))\n",
    "print(\"Final_test_Accuracy = %d%%\" %(ran_for.score(test_dataset,test_labels)*100))"
   ]
  },
  {
   "cell_type": "markdown",
   "metadata": {},
   "source": [
    "# Neural Network"
   ]
  },
  {
   "cell_type": "code",
   "execution_count": 31,
   "metadata": {
    "collapsed": true
   },
   "outputs": [],
   "source": [
    "#Neural Network\n",
    "import tensorflow as tf\n",
    "data_size = train_dataset.shape[0]\n",
    "output_size = 2\n",
    "hidden_layer1 = 32\n",
    "#hidden_layer2 = 64\n",
    "#hidden_layer3 = 128\n",
    "#hidden_layer4 = 512\n",
    "beta = 0.0003\n",
    "start_learning_rate = 0.05\n",
    "\n",
    "#def makeGraph(hidden_layer1,hidden_layer2,beta,start_learning_rate):\n",
    "\n",
    "graph = tf.Graph()\n",
    "\n",
    "with graph.as_default():\n",
    "    tf_train_dataset = tf.constant(train_dataset,dtype= np.float32)\n",
    "    tf_valid_dataset = tf.constant(valid_dataset,dtype=np.float32)\n",
    "    tf_test_dataset = tf.constant(test_dataset,dtype =np.float32)\n",
    "    tf_train_labels = tf.constant(neural_train_labels)\n",
    "\n",
    "    layer1_weights = tf.Variable(tf.truncated_normal([7,hidden_layer1],stddev=0.1))\n",
    "    layer1_biases = tf.Variable(tf.truncated_normal([hidden_layer1],stddev=0.01))\n",
    "    layer2_weights = tf.Variable(tf.truncated_normal([hidden_layer1,output_size],stddev=0.1))\n",
    "    layer2_biases = tf.Variable(tf.truncated_normal([output_size],stddev=0.01))\n",
    "    #layer3_weights = tf.Variable(tf.truncated_normal([hidden_layer2,output_size],stddev=0.1))\n",
    "    #layer3_biases = tf.Variable(tf.truncated_normal([output_size],stddev=0.01))\n",
    "    #layer4_weights = tf.Variable(tf.truncated_normal([hidden_layer3,hidden_layer4],stddev=0.1))\n",
    "    #layer4_biases = tf.Variable(tf.truncated_normal([hidden_layer4],stddev=0.01))\n",
    "    #layer5_weights = tf.Variable(tf.truncated_normal([hidden_layer4,output_size],stddev=0.1))\n",
    "    #layer5_biases = tf.Variable(tf.truncated_normal([output_size],stddev=0.01))\n",
    "    \n",
    "\n",
    "    logits = tf.matmul(tf_train_dataset,layer1_weights) + layer1_biases\n",
    "    logits = tf.nn.relu(logits)\n",
    "    logits = tf.matmul(logits,layer2_weights) + layer2_biases\n",
    "    #logits = tf.nn.relu(logits)\n",
    "    #logits = tf.matmul(logits,layer3_weights) + layer3_biases\n",
    "    #logits = tf.nn.relu(logits)\n",
    "    #logits = tf.matmul(logits,layer4_weights) + layer4_biases\n",
    "    #logits = tf.nn.relu(logits)\n",
    "    #logits = tf.matmul(logits,layer5_weights) + layer5_biases\n",
    "\n",
    "    regularizer = tf.nn.l2_loss(layer1_weights) + tf.nn.l2_loss(layer2_weights) #+ tf.nn.l2_loss(layer3_weights)# + tf.nn.l2_loss(layer4_weights) + tf.nn.l2_loss(layer5_weights)\n",
    "\n",
    "    loss = tf.reduce_mean(tf.nn.softmax_cross_entropy_with_logits(labels=neural_train_labels, logits=logits))\n",
    "    loss = tf.reduce_mean(loss + regularizer*beta)\n",
    "\n",
    "    global_step = tf.Variable(0)  # count the number of steps taken.\n",
    "    learning_rate = tf.train.exponential_decay(start_learning_rate, global_step, 20000, 0.95, staircase=True)\n",
    "    optimizer = tf.train.GradientDescentOptimizer(learning_rate).minimize(loss, global_step=global_step)\n",
    "    \n",
    "    #(tf.matmul(tf.nn.relu(tf.matmul(tf.nn.relu(tf.matmul(tf.nn.relu(tf.matmul(tf.nn.relu(tf.matmul(tf_valid_dataset,layer1_weights) + layer1_biases), layer2_weights)\n",
    "    #                                                                + layer2_biases),layer3_weights) + layer3_biases),layer4_weights)+layer4_biases),layer5_weights)+layer5_biases)\n",
    "    neural_train_prediction = tf.nn.softmax(logits)\n",
    "    neural_valid_prediction = tf.nn.softmax(tf.matmul(tf.nn.relu(tf.matmul(tf_valid_dataset,layer1_weights) + layer1_biases), layer2_weights)+layer2_biases)\n",
    "    neural_test_prediction = tf.nn.softmax(tf.matmul(tf.nn.relu(tf.matmul(tf_test_dataset,layer1_weights) + layer1_biases), layer2_weights)+ layer2_biases)\n",
    "    "
   ]
  },
  {
   "cell_type": "code",
   "execution_count": 32,
   "metadata": {
    "collapsed": true
   },
   "outputs": [],
   "source": [
    "def accuracy(predictions, labels):\n",
    "  return (100.0 * np.sum(np.argmax(predictions, 1) == np.argmax(labels, 1))\n",
    "          / predictions.shape[0])"
   ]
  },
  {
   "cell_type": "code",
   "execution_count": 33,
   "metadata": {},
   "outputs": [
    {
     "name": "stdout",
     "output_type": "stream",
     "text": [
      "Initialized\n",
      "Step : 0\n",
      "Training Loss : 0.688637\n",
      "Training Accuracy : 76%\n",
      "Step : 2500\n",
      "Training Loss : 0.407191\n",
      "Training Accuracy : 82%\n",
      "Step : 5000\n",
      "Training Loss : 0.392435\n",
      "Training Accuracy : 83%\n",
      "Step : 7500\n",
      "Training Loss : 0.385500\n",
      "Training Accuracy : 85%\n",
      "Step : 10000\n",
      "Training Loss : 0.380481\n",
      "Training Accuracy : 85%\n",
      "Step : 12500\n",
      "Training Loss : 0.375613\n",
      "Training Accuracy : 85%\n",
      "Step : 15000\n",
      "Training Loss : 0.372036\n",
      "Training Accuracy : 85%\n",
      "Step : 17500\n",
      "Training Loss : 0.368324\n",
      "Training Accuracy : 85%\n",
      "Step : 20000\n",
      "Training Loss : 0.364619\n",
      "Training Accuracy : 85%\n",
      "Step : 22500\n",
      "Training Loss : 0.361232\n",
      "Training Accuracy : 85%\n",
      "Step : 25000\n",
      "Training Loss : 0.358397\n",
      "Training Accuracy : 85%\n",
      "Step : 27500\n",
      "Training Loss : 0.356167\n",
      "Training Accuracy : 85%\n",
      "Step : 30000\n",
      "Training Loss : 0.353852\n",
      "Training Accuracy : 85%\n",
      "Step : 32500\n",
      "Training Loss : 0.352357\n",
      "Training Accuracy : 85%\n",
      "Step : 35000\n",
      "Training Loss : 0.351320\n",
      "Training Accuracy : 85%\n",
      "Step : 37500\n",
      "Training Loss : 0.350416\n",
      "Training Accuracy : 85%\n",
      "Step : 40000\n",
      "Training Loss : 0.349725\n",
      "Training Accuracy : 85%\n",
      "Step : 42500\n",
      "Training Loss : 0.349135\n",
      "Training Accuracy : 85%\n",
      "Step : 45000\n",
      "Training Loss : 0.348400\n",
      "Training Accuracy : 85%\n",
      "Step : 47500\n",
      "Training Loss : 0.347836\n",
      "Training Accuracy : 85%\n",
      "Step : 50000\n",
      "Training Loss : 0.347378\n",
      "Training Accuracy : 85%\n",
      "Validation Accuracy : 77%\n",
      "Test Accuracy : 80%\n"
     ]
    }
   ],
   "source": [
    "num_steps = 50001\n",
    "final_weights1 = []\n",
    "final_biases1 = []\n",
    "final_weights2 = []\n",
    "final_biases2 = []\n",
    "final_weights3 = []\n",
    "final_biases3 = []\n",
    "final_weights4 = []\n",
    "final_biases4 = []\n",
    "final_weights5 = []\n",
    "final_biases5 = []\n",
    "\n",
    "#,final_weights3,final_biases3,final_weights4,final_biases4,final_weights5,final_biases5\n",
    "#,layer3_weights,layer3_biases,layer4_weights,layer4_biases,layer5_weights,layer5_biases\n",
    "\n",
    "neural_train_predictions = []\n",
    "neural_valid_predictions = []\n",
    "neural_test_predictions = []\n",
    "\n",
    "#best_hidden1 = 10000\n",
    "#best_hidden2 = 10000\n",
    "#best_beta = 10\n",
    "#best_learning_rate = 10\n",
    "#best_num_steps = 1000\n",
    "#best_accuracy = 0\n",
    "#best_loss = 100\n",
    "#iters =10\n",
    "\n",
    "#hidden_layer1 = random.randint(16,256)\n",
    "#hidden_layer2 = random.randint(16,256)\n",
    "#beta = random.uniform(0.000003,0.03)\n",
    "#start_learning_rate = random.uniform(0.003,0.3)\n",
    "#print(\"Hidden_layer1 = {0}, Hidden_layer2 = {1}, Beta = {2}, Start_learning_rate = {3}\" .format(hidden_layer1, hidden_layer2, beta, start_learning_rate))\n",
    "#makeGraph(hidden_layer1,hidden_layer2,beta,start_learning_rate)\n",
    "#acc = 0\n",
    "\n",
    "J = []\n",
    "\n",
    "with tf.Session(graph=graph) as session:\n",
    "    tf.global_variables_initializer().run()\n",
    "    print(\"Initialized\")\n",
    "    for step in range(num_steps):\n",
    "        feed_dict = {tf_train_dataset : train_dataset, tf_train_labels : neural_train_labels}\n",
    "        _, l, predictions,final_weights1,final_biases1,final_weights2,final_biases2 = session.run([optimizer, loss, neural_train_prediction,layer1_weights,layer1_biases,layer2_weights,layer2_biases], feed_dict=feed_dict)\n",
    "        J.append(l)\n",
    "        if(step%2500==0):\n",
    "            print(\"Step : %d\"%step)\n",
    "            print(\"Training Loss : %f\"%l)\n",
    "            print(\"Training Accuracy : %d%%\" %accuracy(predictions,neural_train_labels))\n",
    "    neural_train_predictions = neural_train_prediction.eval()\n",
    "    neural_valid_predictions = neural_valid_prediction.eval()\n",
    "    neural_test_predictions = neural_test_prediction.eval()\n",
    "    print(\"Validation Accuracy : %d%%\" %accuracy(neural_valid_prediction.eval(),neural_valid_labels))\n",
    "    print(\"Test Accuracy : %d%%\" %accuracy(neural_test_prediction.eval(),neural_test_labels))\n",
    "    \n",
    "#if(acc>best_accuracy):\n",
    "#    best_accuracy = acc\n",
    "#    best_loss = J[len(J)-1]\n",
    "#    best_num_steps = num_steps\n",
    "#    best_hidden1 = hidden_layer1\n",
    "#    best_hidden2 = hidden_layer2\n",
    "#    best_beta = beta\n",
    "#    best_learning_rate = start_learning_rate\n",
    "#print(\"Best_test_accuracy till now = %d%%\"%best_accuracy)\n",
    "#print(\" \")"
   ]
  },
  {
   "cell_type": "code",
   "execution_count": 35,
   "metadata": {},
   "outputs": [
    {
     "data": {
      "image/png": "[encoded data removed]",
      "text/plain": [
       "<matplotlib.figure.Figure at 0x2438f842eb8>"
      ]
     },
     "metadata": {},
     "output_type": "display_data"
    }
   ],
   "source": [
    "import matplotlib.pyplot as plt\n",
    "iters = list(range(0,len(J)))\n",
    "plt.plot(iters,J)\n",
    "plt.xlabel('Iterations')\n",
    "plt.ylabel('Error')\n",
    "plt.title('Iterations VS Error')\n",
    "plt.show()"
   ]
  }
 ],
 "metadata": {
  "kernelspec": {
   "display_name": "Python 3",
   "language": "python",
   "name": "python3"
  },
  "language_info": {
   "codemirror_mode": {
    "name": "ipython",
    "version": 3
   },
   "file_extension": ".py",
   "mimetype": "text/x-python",
   "name": "python",
   "nbconvert_exporter": "python",
   "pygments_lexer": "ipython3",
   "version": "3.6.1"
  }
 },
 "nbformat": 4,
 "nbformat_minor": 2
}
