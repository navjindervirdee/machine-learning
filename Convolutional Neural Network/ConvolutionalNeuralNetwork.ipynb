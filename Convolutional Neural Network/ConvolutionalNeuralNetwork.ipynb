{
 "cells": [
  {
   "cell_type": "code",
   "execution_count": 316,
   "metadata": {
    "collapsed": true
   },
   "outputs": [],
   "source": [
    "#Implementing COnvolutional Neural Net from Scratch.\n",
    "#DataSet Digit Recognizer from Kaggle = https://www.kaggle.com/c/digit-recognizer/data\n",
    "#Digit 0-9\n",
    "\n",
    "#get the training data\n",
    "import pandas as pd\n",
    "path = r'E:\\Study n Work\\Machine Learning\\Kaggle\\Digit Recognizer\\Data\\train.csv'\n",
    "train_data = pd.read_csv(path)"
   ]
  },
  {
   "cell_type": "code",
   "execution_count": 317,
   "metadata": {},
   "outputs": [
    {
     "name": "stdout",
     "output_type": "stream",
     "text": [
      "(42000, 1)\n"
     ]
    }
   ],
   "source": [
    "#Separating Labels from the dataset.\n",
    "import numpy as np\n",
    "train_labels = np.array(train_data['label']).reshape(train_data.shape[0],1)\n",
    "print(train_labels.shape)"
   ]
  },
  {
   "cell_type": "code",
   "execution_count": 318,
   "metadata": {},
   "outputs": [
    {
     "name": "stdout",
     "output_type": "stream",
     "text": [
      "(42000, 784)\n"
     ]
    }
   ],
   "source": [
    "#Train dataset.\n",
    "train_dataset = np.array(train_data.iloc[:,1:785]).reshape(train_data.shape[0],784)\n",
    "print(train_dataset.shape)"
   ]
  },
  {
   "cell_type": "code",
   "execution_count": 319,
   "metadata": {
    "collapsed": true
   },
   "outputs": [],
   "source": [
    "#Normalizing the dataset\n",
    "train_dataset = (train_dataset)/255"
   ]
  },
  {
   "cell_type": "code",
   "execution_count": 320,
   "metadata": {},
   "outputs": [
    {
     "name": "stdout",
     "output_type": "stream",
     "text": [
      "(25200, 784) (25200, 1)\n",
      "(8400, 784) (8400, 1)\n",
      "(8400, 784) (8400, 1)\n"
     ]
    }
   ],
   "source": [
    "#Breaking the dataset into test dataset, valid dataset and train dataset.\n",
    "\n",
    "test_dataset = np.array(train_dataset[33600:42000]).reshape(8400,784)\n",
    "test_labels = np.array(train_labels[33600:42000]).reshape(8400,1)\n",
    "\n",
    "valid_dataset = np.array(train_dataset[25200:33600]).reshape(8400,784)\n",
    "valid_labels = np.array(train_labels[25200:33600]).reshape(8400,1)\n",
    "\n",
    "train_dataset = np.array(train_dataset[0:25200])\n",
    "train_labels = np.array(train_labels[0:25200]).reshape(25200,1)\n",
    "\n",
    "print(train_dataset.shape,train_labels.shape)\n",
    "print(valid_dataset.shape,valid_labels.shape)\n",
    "print(test_dataset.shape,test_labels.shape)"
   ]
  },
  {
   "cell_type": "code",
   "execution_count": 321,
   "metadata": {},
   "outputs": [
    {
     "name": "stdout",
     "output_type": "stream",
     "text": [
      "(25200, 10)\n",
      "(8400, 10)\n",
      "(8400, 10)\n"
     ]
    }
   ],
   "source": [
    "#One Hot Encoding.\n",
    "\n",
    "neural_train_labels = np.zeros((train_labels.shape[0],10))\n",
    "neural_valid_labels = np.zeros((valid_labels.shape[0],10))\n",
    "neural_test_labels = np.zeros((test_labels.shape[0],10))\n",
    "\n",
    "for i,value in enumerate(train_labels):\n",
    "    neural_train_labels[i,value] = 1\n",
    "\n",
    "for i,value in enumerate(valid_labels):\n",
    "    neural_valid_labels[i,value] = 1\n",
    "\n",
    "for i,value in enumerate(test_labels):\n",
    "    neural_test_labels[i,value] = 1\n",
    "\n",
    "print(neural_train_labels.shape)\n",
    "print(neural_valid_labels.shape)\n",
    "print(neural_test_labels.shape)"
   ]
  },
  {
   "cell_type": "code",
   "execution_count": 322,
   "metadata": {},
   "outputs": [
    {
     "name": "stdout",
     "output_type": "stream",
     "text": [
      "Training set (25200, 28, 28, 1) (25200, 10)\n",
      "Validation set (8400, 28, 28, 1) (8400, 10)\n",
      "Test set (8400, 28, 28, 1) (8400, 10)\n"
     ]
    }
   ],
   "source": [
    "#Reformatting the dataset\n",
    "\n",
    "image_size = 28\n",
    "num_labels = 10\n",
    "num_channels = 1 # grayscale\n",
    "\n",
    "def reformat(dataset):\n",
    "  dataset = dataset.reshape((-1, image_size, image_size, num_channels)).astype(np.float32)\n",
    "  return dataset\n",
    "\n",
    "train_dataset = reformat(train_dataset)\n",
    "valid_dataset = reformat(valid_dataset)\n",
    "test_dataset = reformat(test_dataset)\n",
    "\n",
    "print('Training set', train_dataset.shape, neural_train_labels.shape)\n",
    "print('Validation set', valid_dataset.shape, neural_valid_labels.shape)\n",
    "print('Test set', test_dataset.shape, neural_test_labels.shape)"
   ]
  },
  {
   "cell_type": "code",
   "execution_count": 333,
   "metadata": {
    "collapsed": true
   },
   "outputs": [],
   "source": [
    "#pixels\n",
    "image_size = 28\n",
    "\n",
    "#greyscale\n",
    "num_channels = 1\n",
    "\n",
    "#patch size\n",
    "patch_size = 3\n",
    "\n",
    "#depth\n",
    "depth = 4\n",
    "\n",
    "#hidden layers\n",
    "hidden1 = 256\n",
    "\n",
    "#hyperparameters\n",
    "learning_rate = 0.1\n",
    "\n",
    "#regularization\n",
    "beta = 0\n",
    "\n",
    "#target_labels\n",
    "num_classes = 10"
   ]
  },
  {
   "cell_type": "code",
   "execution_count": 328,
   "metadata": {
    "collapsed": true
   },
   "outputs": [],
   "source": [
    "#activation function\n",
    "def sigmoid(X):\n",
    "    return 1/(1+np.exp(-1*X))\n",
    "              \n",
    "#conv multiplication i.e multiplying conv layer with the weights.\n",
    "def conv_multiply(data,weights):\n",
    "    logits = np.zeros([data.shape[0]//2,data.shape[1]//2,weights.shape[3]])\n",
    "    for d in range(weights.shape[3]):\n",
    "        row = 0\n",
    "        for rpos in range(0,(data.shape[0]-patch_size+1),2):\n",
    "            col=0\n",
    "            for cpos in range(0,(data.shape[1]-patch_size+1),2):\n",
    "                logits[row,col,d] = np.sum(np.multiply(data[rpos:rpos+patch_size, cpos:cpos+patch_size, :],weights[:,:,:,d]))\n",
    "                col += 1\n",
    "            row+=1\n",
    "    return logits\n",
    "\n",
    "\n",
    "#conv deltas\n",
    "def conv_delta(next_delta,weights):\n",
    "    delta = np.zeros([next_delta.shape[0]*2,next_delta.shape[1]*2,next_delta.shape[2]//4])\n",
    "    for d2 in range(weights.shape[3]):\n",
    "        row = 0\n",
    "        for rpos in range(0,delta.shape[0]-patch_size+1,2):\n",
    "            col=0\n",
    "            for cpos in range(0,delta.shape[2]-patch_size+1,2):\n",
    "                delta[rpos:rpos+patch_size,cpos:cpos+patch_size,:] += (np.multiply(weights[:,:,:,d2],next_delta[row,col,d2]))\n",
    "                col+=1\n",
    "            row +=1\n",
    "    return delta\n",
    "\n",
    "\n",
    "#conv partial derivatives\n",
    "def conv_derivatives(delta,activation):\n",
    "    partial_derivatives = np.zeros([patch_size,patch_size,activation.shape[2],delta.shape[2]])\n",
    "    for d2 in range(0,partial_derivatives.shape[3]):\n",
    "        row=0\n",
    "        for rpos in range(0,activation.shape[0]-patch_size+1,2):\n",
    "            col = 0\n",
    "            for cpos in range(0,activation.shape[1]-patch_size+1,2):\n",
    "                partial_derivatives[:,:,:,d2] += np.multiply(activation[rpos:rpos+patch_size, cpos:cpos+patch_size, :],delta[row,col,d2])\n",
    "                col += 1\n",
    "            row += 1\n",
    "    return partial_derivatives"
   ]
  },
  {
   "cell_type": "code",
   "execution_count": 329,
   "metadata": {
    "collapsed": true
   },
   "outputs": [],
   "source": [
    "#Training Algorithm\n",
    "\n",
    "import numpy as np\n",
    "\n",
    "#functon to train the program.\n",
    "def train(train_dataset,train_labels,batch_size=20,iters=101,stride=2):\n",
    "    #weights\n",
    "    #conv layer weights\n",
    "    global conv_layer1_weights\n",
    "    global conv_layer1_biases\n",
    "    global conv_layer2_weights\n",
    "    global conv_layer2_biases\n",
    "    \n",
    "    #fully connected layer weights.\n",
    "    global full_layer1_weights\n",
    "    global full_layer1_biases\n",
    "    global full_layer2_weights\n",
    "    global full_layer2_biases\n",
    "    \n",
    "    #initialize weights values with zero mean and 0.5 standard deviation.\n",
    "    mean = 0\n",
    "    std = 0.5\n",
    "    \n",
    "    #initialize weights\n",
    "    conv_layer1_weights = np.random.normal(mean,std,(patch_size,patch_size,num_channels,depth))\n",
    "    conv_layer1_biases = np.zeros([1,depth])\n",
    "    conv_layer2_weights = np.random.normal(mean,std,(patch_size,patch_size,depth,depth*4))\n",
    "    conv_layer2_biases = np.zeros([1,depth*4])\n",
    "    \n",
    "    full_layer1_weights = np.random.normal(mean,std,((image_size//4 * image_size//4 * depth * 4),hidden1))\n",
    "    full_layer1_biases = np.zeros([hidden1])\n",
    "    full_layer2_weights = np.random.normal(mean,std,(hidden1,num_classes))\n",
    "    full_layer2_biases = np.zeros([num_classes])\n",
    "    \n",
    "    #training process.\n",
    "    for step in range(iters):\n",
    "        #get the batch data.\n",
    "        start = (step*batch_size)%(train_dataset.shape[0])\n",
    "        end = start + batch_size\n",
    "        batch_dataset = train_dataset[start:end,:,:,:]\n",
    "        batch_labels = train_labels[start:end,:]\n",
    "        \n",
    "        #to store partial derivates\n",
    "        conv_partial_derivative1 = np.zeros([patch_size,patch_size,num_channels,depth])\n",
    "        conv_partial_derivative2 = np.zeros([patch_size,patch_size,depth,depth*4])\n",
    "\n",
    "        full_partial_derivates1 = np.zeros([(image_size//4 * image_size//4 * depth * 4),hidden1])\n",
    "        full_partial_derivates2 = np.zeros([hidden1,num_classes])\n",
    "        \n",
    "        #train on the batch dataset\n",
    "        for i in range(batch_size):\n",
    "            #FORWARD PROPAGATION\n",
    "            #convolution layers activations\n",
    "            image = batch_dataset[i]\n",
    "            logits = conv_multiply(image,conv_layer1_weights) + conv_layer1_biases\n",
    "            activation1 = sigmoid(logits)\n",
    "            activation2 = sigmoid(conv_multiply(activation1,conv_layer2_weights) + conv_layer2_biases)\n",
    "            \n",
    "            \n",
    "            #fully connected layers activations\n",
    "            activation2 = np.array(activation2).reshape(1,(image_size // 4 * image_size // 4 * depth * 4))\n",
    "            activation3 = np.matmul(activation2,full_layer1_weights)+full_layer1_biases\n",
    "            activation3 = sigmoid(activation3)\n",
    "            activation4 = np.matmul(activation3,full_layer2_weights)+full_layer2_biases\n",
    "            activation4 = np.exp(activation4)/np.sum(np.exp(activation4))\n",
    "            \n",
    "            \n",
    "            #BACKWARD PROPAGATION\n",
    "            #fully connected layers deltas\n",
    "            delta4 = np.transpose(activation4)-batch_labels[i].reshape(10,1)\n",
    "            delta3 = np.matmul(full_layer2_weights,delta4)\n",
    "            delta3 = np.multiply(np.multiply(delta3,np.transpose(activation3)),(1-np.transpose(activation3)))\n",
    "            delta2 = np.matmul(full_layer1_weights,delta3)\n",
    "            delta2 = np.multiply(np.multiply(delta2,np.transpose(activation2)),(1-np.transpose(activation2)))\n",
    "            \n",
    "            #convolution layer deltas\n",
    "            conv_delta2 = delta2.reshape(image_size//4,image_size//4,depth*4)\n",
    "            conv_delta1 = conv_delta(conv_delta2,conv_layer2_weights)\n",
    "            conv_delta1 = np.multiply(np.multiply(conv_delta1,activation1),(1-activation1))\n",
    "            \n",
    "            \n",
    "            #partial derivatives\n",
    "            full_partial_derivates2 += np.matmul(np.transpose(activation3),np.transpose(delta4))\n",
    "            full_partial_derivates1 += np.matmul(np.transpose(activation2),np.transpose(delta3))\n",
    "            \n",
    "            conv_partial_derivative2 += conv_derivatives(conv_delta2,activation1)\n",
    "            conv_partial_derivative1 += conv_derivatives(conv_delta1,image)\n",
    "            \n",
    "        #regularization\n",
    "        full_partial_derivates1 = (full_partial_derivates1 + (beta*full_layer1_weights))/batch_size\n",
    "        full_partial_derivates2 = (full_partial_derivates2 + (beta*full_layer2_weights))/batch_size\n",
    "        \n",
    "        conv_partial_derivative1 = (conv_partial_derivative1 + (beta*conv_layer1_weights))/batch_size\n",
    "        conv_partial_derivative2 = (conv_partial_derivative2 + (beta*conv_layer2_weights))/batch_size\n",
    "        \n",
    "        #update weights\n",
    "        full_layer1_weights -= (full_partial_derivates1*learning_rate)\n",
    "        full_layer2_weights -= (full_partial_derivates2*learning_rate)\n",
    "        conv_layer1_weights -= (conv_partial_derivative1*learning_rate)\n",
    "        conv_layer2_weights -= (conv_partial_derivative2*learning_rate)\n",
    "        \n",
    "        \n",
    "        #print loss and accuracy of the batch dataset.\n",
    "        if(step%100==0):\n",
    "            print('Step : %d'%step)\n",
    "            loss,accuracy,pred = cal_loss_accuracy_predictions(batch_dataset,batch_labels)\n",
    "            print('Loss : %f'%loss)\n",
    "            print('Accuracy : %f%%'%(round(accuracy*100,2)))\n",
    "\n",
    "\n",
    "            \n",
    "#function for calculation of loss, accuracy and  predictions.\n",
    "def cal_loss_accuracy_predictions(batch_dataset,batch_labels):\n",
    "    global predictions\n",
    "    predictions = np.zeros([batch_labels.shape[0],batch_labels.shape[1]]);\n",
    "    \n",
    "    #predictions.\n",
    "    for i in range(len(batch_labels)):\n",
    "        #convolution layers\n",
    "        image = batch_dataset[i]\n",
    "        logits = conv_multiply(image,conv_layer1_weights) + conv_layer1_biases\n",
    "        logits = sigmoid(logits)\n",
    "        logits = sigmoid(conv_multiply(logits,conv_layer2_weights) + conv_layer2_biases)\n",
    "\n",
    "        #fully connected layers\n",
    "        logits = logits.reshape(1,(image_size//4 * image_size//4 * depth * 4))\n",
    "        logits = sigmoid(np.matmul(logits,full_layer1_weights)+full_layer1_biases)\n",
    "        logits = np.matmul(logits,full_layer2_weights)+full_layer2_biases\n",
    "        logits = np.exp(logits)/np.sum(np.exp(logits))\n",
    "        predictions[i,:] = logits[0]\n",
    "    \n",
    "    #accuracy\n",
    "    accuracy = np.sum(np.argmax(predictions,axis=1)==np.argmax(batch_labels,axis=1))/len(batch_labels)\n",
    "    \n",
    "    #loss\n",
    "    loss=0\n",
    "    for i in range(len(batch_labels)):\n",
    "        for j in range(num_classes):\n",
    "            loss += (-1)*(batch_labels[i,j]*(np.log(predictions[i,j])) + (1-batch_labels[i,j])*(np.log(1-predictions[i,j])))\n",
    "    loss = loss/len(batch_labels)\n",
    "    \n",
    "    return loss,accuracy,predictions"
   ]
  },
  {
   "cell_type": "code",
   "execution_count": 334,
   "metadata": {},
   "outputs": [
    {
     "name": "stdout",
     "output_type": "stream",
     "text": [
      "Step : 0\n",
      "Loss : 10.921501\n",
      "Accuracy : 20.000000%\n",
      "Step : 100\n",
      "Loss : 3.243290\n",
      "Accuracy : 25.000000%\n",
      "Step : 200\n",
      "Loss : 3.009180\n",
      "Accuracy : 50.000000%\n",
      "Step : 300\n",
      "Loss : 1.752908\n",
      "Accuracy : 65.000000%\n",
      "Step : 400\n",
      "Loss : 1.366739\n",
      "Accuracy : 75.000000%\n",
      "Step : 500\n",
      "Loss : 1.192982\n",
      "Accuracy : 80.000000%\n",
      "Step : 600\n",
      "Loss : 1.009519\n",
      "Accuracy : 85.000000%\n",
      "Step : 700\n",
      "Loss : 0.542985\n",
      "Accuracy : 95.000000%\n",
      "Step : 800\n",
      "Loss : 0.803596\n",
      "Accuracy : 80.000000%\n",
      "Step : 900\n",
      "Loss : 0.378653\n",
      "Accuracy : 95.000000%\n",
      "Step : 1000\n",
      "Loss : 0.445274\n",
      "Accuracy : 95.000000%\n",
      "Step : 1100\n",
      "Loss : 0.642086\n",
      "Accuracy : 90.000000%\n",
      "Step : 1200\n",
      "Loss : 0.437865\n",
      "Accuracy : 100.000000%\n",
      "Step : 1300\n",
      "Loss : 0.855016\n",
      "Accuracy : 85.000000%\n",
      "Step : 1400\n",
      "Loss : 0.390386\n",
      "Accuracy : 95.000000%\n",
      "Step : 1500\n",
      "Loss : 0.570026\n",
      "Accuracy : 95.000000%\n"
     ]
    }
   ],
   "source": [
    "#TRAINING\n",
    "train(train_dataset,neural_train_labels,iters=1501)"
   ]
  },
  {
   "cell_type": "code",
   "execution_count": 340,
   "metadata": {},
   "outputs": [
    {
     "name": "stdout",
     "output_type": "stream",
     "text": [
      "Training Accuracy   : 85.88%\n",
      "Validation Accuracy : 85.45%\n",
      "Test Accuracy       : 85.99%\n"
     ]
    }
   ],
   "source": [
    "_,test_acc,test_pred = cal_loss_accuracy_predictions(test_dataset,neural_test_labels)\n",
    "_,valid_acc,valid_pred = cal_loss_accuracy_predictions(valid_dataset,neural_valid_labels)\n",
    "_,train_acc,train_pred = cal_loss_accuracy_predictions(train_dataset,neural_train_labels)\n",
    "\n",
    "print('Training Accuracy   : {}%'.format(round(train_acc*100,2)))\n",
    "print('Validation Accuracy : {}%'.format(round(valid_acc*100,2)))\n",
    "print('Test Accuracy       : {}%'.format(round(test_acc*100,2)))"
   ]
  },
  {
   "cell_type": "code",
   "execution_count": 344,
   "metadata": {},
   "outputs": [
    {
     "data": {
      "image/png": "[encoded data removed]",
      "text/plain": [
       "<matplotlib.figure.Figure at 0x22105d90358>"
      ]
     },
     "metadata": {},
     "output_type": "display_data"
    },
    {
     "name": "stdout",
     "output_type": "stream",
     "text": [
      "Predicted Label : 4\n"
     ]
    },
    {
     "data": {
      "image/png": "[encoded data removed]",
      "text/plain": [
       "<matplotlib.figure.Figure at 0x22106411d30>"
      ]
     },
     "metadata": {},
     "output_type": "display_data"
    },
    {
     "name": "stdout",
     "output_type": "stream",
     "text": [
      "Predicted Label : 0\n"
     ]
    },
    {
     "data": {
      "image/png": "[encoded data removed]",
      "text/plain": [
       "<matplotlib.figure.Figure at 0x2210641bac8>"
      ]
     },
     "metadata": {},
     "output_type": "display_data"
    },
    {
     "name": "stdout",
     "output_type": "stream",
     "text": [
      "Predicted Label : 4\n"
     ]
    },
    {
     "data": {
      "image/png": "[encoded data removed]",
      "text/plain": [
       "<matplotlib.figure.Figure at 0x22105d96c88>"
      ]
     },
     "metadata": {},
     "output_type": "display_data"
    },
    {
     "name": "stdout",
     "output_type": "stream",
     "text": [
      "Predicted Label : 8\n"
     ]
    },
    {
     "data": {
      "image/png": "[encoded data removed]",
      "text/plain": [
       "<matplotlib.figure.Figure at 0x22105ffbd30>"
      ]
     },
     "metadata": {},
     "output_type": "display_data"
    },
    {
     "name": "stdout",
     "output_type": "stream",
     "text": [
      "Predicted Label : 3\n"
     ]
    }
   ],
   "source": [
    "image = valid_dataset[15:20]\n",
    "cal_loss_accuracy_predictions(valid_dataset[15:20],neural_valid_labels[15:20])\n",
    "import matplotlib.pyplot as plt\n",
    "for i in range(image.shape[0]):\n",
    "    plt.imshow(image[i,:,:,0],cmap='gray')\n",
    "    plt.show()\n",
    "    print('Predicted Label : %d'%np.argmax(predictions[i]))"
   ]
  }
 ],
 "metadata": {
  "kernelspec": {
   "display_name": "Python 3",
   "language": "python",
   "name": "python3"
  },
  "language_info": {
   "codemirror_mode": {
    "name": "ipython",
    "version": 3
   },
   "file_extension": ".py",
   "mimetype": "text/x-python",
   "name": "python",
   "nbconvert_exporter": "python",
   "pygments_lexer": "ipython3",
   "version": "3.6.1"
  }
 },
 "nbformat": 4,
 "nbformat_minor": 2
}
